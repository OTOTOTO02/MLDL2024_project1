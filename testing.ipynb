{
 "cells": [
  {
   "cell_type": "code",
   "execution_count": null,
   "metadata": {},
   "outputs": [],
   "source": [
    "# !pip install -q gdown\n",
    "\n",
    "# file_id = \"1MI8QsvjW0R6WDJiL49L7sDGpPWYAQB6O\"\n",
    "# !gdown https://drive.google.com/uc?id={file_id}\n",
    "\n",
    "# !unzip Cityscapes.zip"
   ]
  },
  {
   "cell_type": "code",
   "execution_count": null,
   "metadata": {},
   "outputs": [],
   "source": [
    "from torch.utils.data import DataLoader\n",
    "import torchvision.transforms as TF\n",
    "\n",
    "import matplotlib.pyplot as plt\n",
    "\n",
    "from datasets.cityscapes import CityScapes\n",
    "from utils import tensorToImageCompatible, decode_segmap\n",
    "\n",
    "transform = TF.Compose([\n",
    "    TF.ToTensor(),\n",
    "    TF.Normalize(mean=[0.485, 0.456, 0.406],\n",
    "                 std=[0.229, 0.224, 0.225])\n",
    "])\n",
    "\n",
    "data = CityScapes(\"/content/Cityscapes/Cityspaces\", split=\"val\", transform=transform)\n",
    "dataloader = DataLoader(data, batch_size=8, shuffle=True)\n",
    "\n",
    "i = 0\n",
    "img_tensor, color_tensor, label = next(iter(dataloader))\n",
    "\n",
    "img = tensorToImageCompatible(img_tensor[i])\n",
    "color = tensorToImageCompatible(color_tensor[i])\n",
    "decoded_from_labelId = decode_segmap(label[i])\n",
    "\n",
    "fig, ax = plt.subplots(2,2, figsize=(10,10), layout=\"tight\")\n",
    "\n",
    "ax[0,0].set_title(\"Original image\")\n",
    "ax[0,0].imshow(img)\n",
    "ax[0,0].axis('off')\n",
    "\n",
    "ax[0,1].set_title(\"Colored by label\")\n",
    "ax[0,1].imshow(color)\n",
    "ax[0,1].axis('off')\n",
    "\n",
    "ax[1,0].set_title(\"Reconstructed from class ID\")\n",
    "ax[1,0].imshow(decoded_from_labelId)\n",
    "ax[1,0].axis('off')\n",
    "\n",
    "ax[1,1].set_title(\"Raw Classes\")\n",
    "ax[1,1].imshow(label[i])\n",
    "ax[1,1].axis('off')\n",
    "\n",
    "None"
   ]
  },
  {
   "cell_type": "markdown",
   "metadata": {},
   "source": [
    "![alt text](image.png \"Title\")\n"
   ]
  },
  {
   "cell_type": "code",
   "execution_count": null,
   "metadata": {},
   "outputs": [],
   "source": []
  }
 ],
 "metadata": {
  "kernelspec": {
   "display_name": "Python 3",
   "language": "python",
   "name": "python3"
  },
  "language_info": {
   "codemirror_mode": {
    "name": "ipython",
    "version": 3
   },
   "file_extension": ".py",
   "mimetype": "text/x-python",
   "name": "python",
   "nbconvert_exporter": "python",
   "pygments_lexer": "ipython3",
   "version": "3.11.9"
  }
 },
 "nbformat": 4,
 "nbformat_minor": 2
}
