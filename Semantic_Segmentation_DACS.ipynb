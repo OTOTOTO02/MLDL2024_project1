{
  "cells": [
    {
      "cell_type": "markdown",
      "metadata": {
        "id": "ZWIvDpquM-Tl"
      },
      "source": [
        "# Preparations"
      ]
    },
    {
      "cell_type": "markdown",
      "metadata": {},
      "source": [
        "Imports"
      ]
    },
    {
      "cell_type": "code",
      "execution_count": 1,
      "metadata": {},
      "outputs": [],
      "source": [
        "import random\n",
        "import numpy as np\n",
        "\n",
        "import torch\n",
        "from torch import nn\n",
        "from torchvision.transforms import v2\n",
        "from torch.utils.data import Dataset, DataLoader\n",
        "from torchvision import models\n",
        "import torch.optim as optim\n",
        "\n",
        "import wandb\n",
        "\n",
        "from PIL import Image\n",
        "import seaborn as sns\n",
        "import matplotlib.pyplot as plt\n",
        "\n",
        "import os\n",
        "import zipfile\n",
        "from tqdm.notebook import tqdm\n",
        "import time\n",
        "import cv2\n",
        "import shutil\n",
        "\n",
        "# !pip -q install -U fvcore\n",
        "from fvcore.nn import FlopCountAnalysis #, flop_count_table\n",
        "\n",
        "from dataclasses import dataclass\n",
        "from typing import Tuple\n",
        "\n",
        "import warnings\n",
        "warnings.filterwarnings(action='ignore')"
      ]
    },
    {
      "cell_type": "markdown",
      "metadata": {},
      "source": [
        "## Utils"
      ]
    },
    {
      "cell_type": "markdown",
      "metadata": {},
      "source": [
        "### Label-color correlator"
      ]
    },
    {
      "cell_type": "code",
      "execution_count": 2,
      "metadata": {},
      "outputs": [],
      "source": [
        "@dataclass\n",
        "class GTA5Label:\n",
        "    name: str\n",
        "    ID: int\n",
        "    color: Tuple[int, int, int]\n",
        "\n",
        "class GTA5Labels_TaskCV2017():\n",
        "    road = GTA5Label(name = \"road\", ID=0, color=(128, 64, 128))\n",
        "    sidewalk = GTA5Label(name = \"sidewalk\", ID=1, color=(244, 35, 232))\n",
        "    building = GTA5Label(name = \"building\", ID=2, color=(70, 70, 70))\n",
        "    wall = GTA5Label(name = \"wall\", ID=3, color=(102, 102, 156))\n",
        "    fence = GTA5Label(name = \"fence\", ID=4, color=(190, 153, 153))\n",
        "    pole = GTA5Label(name = \"pole\", ID=5, color=(153, 153, 153))\n",
        "    light = GTA5Label(name = \"light\", ID=6, color=(250, 170, 30))\n",
        "    sign = GTA5Label(name = \"sign\", ID=7, color=(220, 220, 0))\n",
        "    vegetation = GTA5Label(name = \"vegetation\", ID=8, color=(107, 142, 35))\n",
        "    terrain = GTA5Label(name = \"terrain\", ID=9, color=(152, 251, 152))\n",
        "    sky = GTA5Label(name = \"sky\", ID=10, color=(70, 130, 180))\n",
        "    person = GTA5Label(name = \"person\", ID=11, color=(220, 20, 60))\n",
        "    rider = GTA5Label(name = \"rider\", ID=12, color=(255, 0, 0))\n",
        "    car = GTA5Label(name = \"car\", ID=13, color=(0, 0, 142))\n",
        "    truck = GTA5Label(name = \"truck\", ID=14, color=(0, 0, 70))\n",
        "    bus = GTA5Label(name = \"bus\", ID=15, color=(0, 60, 100))\n",
        "    train = GTA5Label(name = \"train\", ID=16, color=(0, 80, 100))\n",
        "    motocycle = GTA5Label(name = \"motocycle\", ID=17, color=(0, 0, 230))\n",
        "    bicycle = GTA5Label(name = \"bicycle\", ID=18, color=(119, 11, 32))\n",
        "    void = GTA5Label(name = \"void\", ID=255, color=(0,0,0))\n",
        "\n",
        "    list_ = [\n",
        "        road,\n",
        "        sidewalk,\n",
        "        building,\n",
        "        wall,\n",
        "        fence,\n",
        "        pole,\n",
        "        light,\n",
        "        sign,\n",
        "        vegetation,\n",
        "        terrain,\n",
        "        sky,\n",
        "        person,\n",
        "        rider,\n",
        "        car,\n",
        "        truck,\n",
        "        bus,\n",
        "        train,\n",
        "        motocycle,\n",
        "        bicycle,\n",
        "        void\n",
        "    ]"
      ]
    },
    {
      "cell_type": "markdown",
      "metadata": {},
      "source": [
        "### Functions"
      ]
    },
    {
      "cell_type": "code",
      "execution_count": 3,
      "metadata": {},
      "outputs": [],
      "source": [
        "def pretty_extract(zip_path:str, extract_to:str) -> None:\n",
        "    with zipfile.ZipFile(zip_path, 'r') as zip_ref:\n",
        "        png_files = [f for f in zip_ref.namelist() if f.endswith('.png')]\n",
        "\n",
        "        for file in tqdm(png_files, desc=\"Extracting PNGs\"):\n",
        "            zip_ref.extract(file, path=extract_to)\n",
        "\n",
        "def poly_lr_scheduler(optimizer, init_lr:float, iter:int=0, lr_decay_iter:int=1, max_iter:int=50, power:float=0.9) -> float:\n",
        "    \"\"\"Polynomial decay of learning rate\n",
        "            :param init_lr is base learning rate\n",
        "            :param iter is a current iteration\n",
        "            :param lr_decay_iter how frequently decay occurs, default is 1\n",
        "            :param max_iter is number of maximum iterations\n",
        "            :param power is a polymomial power\n",
        "\n",
        "    \"\"\"\n",
        "    if ((iter % lr_decay_iter) != 0) or iter > max_iter:\n",
        "        return optimizer.param_groups[0]['lr']\n",
        "\n",
        "    lr = init_lr*(1 - iter/max_iter)**power\n",
        "    optimizer.param_groups[0]['lr'] = lr\n",
        "    return lr\n",
        "\n",
        "def fast_hist(a:np.ndarray, b:np.ndarray, n:int) -> np.ndarray:\n",
        "    '''\n",
        "    a and b are label and prediction respectively\n",
        "    n is the number of classes\n",
        "    '''\n",
        "    k = (a >= 0) & (a < n)\n",
        "    return np.bincount(n * a[k].astype(int) + b[k], minlength=n ** 2).reshape(n, n)\n",
        "\n",
        "def fast_hist_cuda(a: torch.Tensor, b: torch.Tensor, n: int) -> torch.Tensor:\n",
        "    \"\"\"\n",
        "    a and b are label and prediction respectively.\n",
        "    n is the number of classes.\n",
        "    This version works with CUDA tensors.\n",
        "    \"\"\"\n",
        "    k = (a >= 0) & (a < n)\n",
        "    a = a[k].to(torch.int64)\n",
        "    b = b[k].to(torch.int64)\n",
        "\n",
        "    indices = n * a + b\n",
        "\n",
        "    hist = torch.zeros(n * n, dtype=torch.float32, device=a.device)\n",
        "\n",
        "    hist.scatter_add_(0, indices, torch.ones_like(indices, dtype=torch.float32))\n",
        "\n",
        "    return hist.view(n, n)\n",
        "\n",
        "def per_class_iou(hist:np.ndarray) -> np.ndarray:\n",
        "    epsilon = 1e-5\n",
        "    return (np.diag(hist)) / (hist.sum(1) + hist.sum(0) - np.diag(hist) + epsilon)\n",
        "\n",
        "def per_class_iou_cuda(hist:torch.Tensor) -> torch.Tensor:\n",
        "    epsilon = 1e-5\n",
        "    diag = torch.diag(hist)\n",
        "\n",
        "    sum_rows = hist.sum(dim=1)\n",
        "    sum_cols = hist.sum(dim=0)\n",
        "\n",
        "    iou = diag / (sum_rows + sum_cols - diag + epsilon)\n",
        "    return iou\n",
        "\n",
        "# Mapping labelId image to RGB image\n",
        "def decode_segmap(mask:np.ndarray) -> np.ndarray:\n",
        "    h, w = mask.shape\n",
        "    color_mask = np.zeros((h, w, 3), dtype=np.uint8)\n",
        "    for label_id in GTA5Labels_TaskCV2017().list_:\n",
        "        color_mask[mask == label_id.ID, :] = label_id.color\n",
        "\n",
        "    return color_mask\n",
        "\n",
        "def tensorToImageCompatible(t:torch.Tensor) -> np.ndarray:\n",
        "    \"\"\"\n",
        "    convert from a tensor of shape [C, H, W] where a normalization has been applied\n",
        "    to an unnormalized tensor of shape [H, W, C],\n",
        "    so *plt.imshow(tensorToImageCompatible(tensor))* works as expected.\\n\n",
        "    Intended to be used to recover the original element\n",
        "    when this transformation is used:\n",
        "    - transform = v2.Compose([\n",
        "        v2.ToTensor(),\n",
        "        v2.Normalize(mean=[0.485, 0.456, 0.406],\n",
        "                    std=[0.229, 0.224, 0.225])])\n",
        "    \"\"\"\n",
        "    mean = torch.tensor([0.485, 0.456, 0.406]).view([-1, 1, 1])\n",
        "    std = torch.tensor([0.229, 0.224, 0.225]).view([-1, 1, 1])\n",
        "\n",
        "    unnormalized = t * std + mean\n",
        "\n",
        "    return (unnormalized.permute(1,2,0).clamp(0,1).numpy()*255).astype(np.uint8)\n",
        "\n",
        "\n",
        "def log_confusion_matrix(title:str, hist:np.ndarray, tag:str, step_name:str, step_value:int):\n",
        "    row_sums = hist.sum(axis=1, keepdims=True)\n",
        "    safe_hist = np.where(row_sums == 0, 0, hist / row_sums)\n",
        "\n",
        "    plt.figure(figsize=(10, 8))\n",
        "    sns.heatmap(100.*safe_hist, fmt=\".2f\", annot=True, cmap=\"Blues\", annot_kws={'size': 7})\n",
        "    plt.xlabel(\"Predicted\")\n",
        "    plt.ylabel(\"True\")\n",
        "    plt.title(title)\n",
        "\n",
        "    wandb.log({tag: wandb.Image(plt), step_name:step_value})\n",
        "    plt.close()\n",
        "\n",
        "def log_bar_chart_ioU(title:str, class_names:list, mIou:float, iou_class:np.ndarray, tag:str, step_name:str, epoch:int):\n",
        "    iou_percent = [round(iou*100., 2) for iou in iou_class]\n",
        "    miou_percent = round(mIou*100., 2)\n",
        "\n",
        "    all_labels = [\"mIoU\"] + class_names\n",
        "    all_values = [miou_percent] + iou_percent\n",
        "\n",
        "    plt.figure(figsize=(14, 5))\n",
        "    bars = plt.bar(range(len(all_values)), all_values, color='skyblue')\n",
        "    plt.xticks(range(len(all_labels)), all_labels, rotation=45, ha=\"right\")\n",
        "\n",
        "    for i, bar in enumerate(bars):\n",
        "        height = bar.get_height()\n",
        "        plt.text(bar.get_x() + bar.get_width() / 2.0, height + 1, f'{height:.2f}',\n",
        "                ha='center', va='bottom', fontsize=9)\n",
        "\n",
        "    plt.ylabel(\"IoU (%)\")\n",
        "    plt.ylim(0, 105)\n",
        "    plt.title(title)\n",
        "    plt.tight_layout()\n",
        "\n",
        "    wandb.log({tag: wandb.Image(plt), step_name:epoch})\n",
        "\n",
        "    plt.close()\n",
        "\n",
        "def num_flops(device, model:torch.nn.Module, H:int, W:int):\n",
        "    model.eval()\n",
        "    img = (torch.zeros((1,3,H,W), device=device),)\n",
        "\n",
        "    flops = FlopCountAnalysis(model, img)\n",
        "    # return flop_count_table(flops)\n",
        "    return flops.total()/1e9\n",
        "\n",
        "def num_param(model: torch.nn.Module):\n",
        "    return sum(p.numel() for p in model.parameters() if p.requires_grad)/1e6\n",
        "\n",
        "def latency(device, model:torch.nn.Module, H:int, W:int):\n",
        "    model.eval()\n",
        "\n",
        "    img = torch.zeros((1,3,H,W)).to(device)\n",
        "    iterations = 1000\n",
        "    latency_list = []\n",
        "    FPS_list  = []\n",
        "\n",
        "    with torch.no_grad():\n",
        "        for _ in tqdm(range(iterations)):\n",
        "            start_time = time.time()\n",
        "            _ = model(img)\n",
        "            end_time = time.time()\n",
        "\n",
        "            latency = end_time - start_time\n",
        "\n",
        "            if latency > 0.0:\n",
        "                latency_list.append(latency)\n",
        "                FPS_list.append(1.0/latency)\n",
        "\n",
        "    mean_latency = np.mean(latency_list)*1000\n",
        "    std_latency = np.std(latency_list)*1000\n",
        "    mean_FPS = np.mean(FPS_list)\n",
        "\n",
        "    return mean_latency, std_latency, mean_FPS\n",
        "\n",
        "class RandomCrop:\n",
        "    def __init__(self, size):\n",
        "        self.size = tuple(size)\n",
        "\n",
        "    def __call__(self, imgs, labels):\n",
        "        B, C, H, W = imgs.size()\n",
        "        th, tw = self.size\n",
        "\n",
        "        imgs_cropped = []\n",
        "        labels_cropped = []\n",
        "\n",
        "        for i in range(B):\n",
        "            x1 = random.randint(0, W - tw)\n",
        "            y1 = random.randint(0, H - th)\n",
        "\n",
        "            imgs_cropped.append(\n",
        "                v2.functional.crop(imgs[i], y1, x1, th, tw)\n",
        "            )\n",
        "\n",
        "            if labels is not None:\n",
        "                labels_cropped.append(\n",
        "                    v2.functional.crop(labels[i], y1, x1, th, tw)\n",
        "                )\n",
        "\n",
        "        imgs_cropped = torch.stack(imgs_cropped)\n",
        "\n",
        "        if labels is not None:\n",
        "            labels_cropped = torch.stack(labels_cropped)\n",
        "            return imgs_cropped, labels_cropped\n",
        "        else:\n",
        "            return imgs_cropped, None\n",
        "\n",
        "def display_result_of_mixing(uleft, ucenter, uright, lleft, lcenter, lright):\n",
        "    fig = plt.figure(figsize=(15,10))\n",
        "    axs = fig.subplots(2, 3)\n",
        "\n",
        "    axs[0, 0].imshow(tensorToImageCompatible(uleft))\n",
        "    axs[0, 1].imshow(tensorToImageCompatible(ucenter))\n",
        "    axs[0, 2].imshow(tensorToImageCompatible(uright))\n",
        "\n",
        "    axs[1, 0].imshow(decode_segmap(lleft))\n",
        "    axs[1, 1].imshow(decode_segmap(lcenter))\n",
        "    axs[1, 2].imshow(decode_segmap(lright))\n",
        "\n",
        "    fig.show()\n",
        "    \n",
        "def FDA(src_img: torch.Tensor, tgt_img: torch.Tensor, beta: float = 0.01) -> torch.Tensor:\n",
        "    # FFT2 is applied to each of the 3 RGB channels\n",
        "    # src_img: torch Tensor [3, H, W ]\n",
        "    # tgt_img: torch Tensor [3, H, W ]\n",
        "\n",
        "    fft_src = torch.fft.fft2(src_img, dim=(-2, -1))\n",
        "    fft_tgt = torch.fft.fft2(tgt_img, dim=(-2, -1))\n",
        "\n",
        "    fft_src_shift = torch.fft.fftshift(fft_src, dim=(-2, -1))\n",
        "    fft_tgt_shift = torch.fft.fftshift(fft_tgt, dim=(-2, -1))\n",
        "    \n",
        "    _, H, W = src_img.shape\n",
        "    c_h, c_w = H // 2, W // 2\n",
        "    bH = int(beta * H/2)\n",
        "    bW = int(beta * W/2)\n",
        "\n",
        "    mask = torch.zeros_like(fft_src.real, dtype=torch.bool)\n",
        "    mask[:, c_h - bH:c_h + bH, c_w - bW:c_w + bW] = True\n",
        "\n",
        "    amplitude_src = torch.abs(fft_src_shift)\n",
        "    phase_src = torch.angle(fft_src_shift)\n",
        "    amplitude_tgt = torch.abs(fft_tgt_shift)\n",
        "\n",
        "    a = torch.fft.ifftshift(\n",
        "        torch.where(mask, amplitude_tgt, amplitude_src)* torch.exp(1j * phase_src), \n",
        "        dim=(-2, -1)\n",
        "    )\n",
        "\n",
        "    res = torch.fft.ifft2(a, dim=(-2, -1)).real.clamp(0, 1)\n",
        "\n",
        "    return res \n",
        "\n",
        "class ClassMixer():\n",
        "    def __init__(self, n_classes:int, selected_portion:float, device):\n",
        "        self.n_classes = n_classes\n",
        "        self.device = device\n",
        "        self.selected_portion = selected_portion\n",
        "    \n",
        "    def __call__(self, source_imgs, target_imgs, source_labels, target_pseudo_labels):\n",
        "        B = source_labels.size(0)\n",
        "        \n",
        "        mask = torch.zeros_like(source_labels, dtype=torch.bool, requires_grad=False, device=self.device)\n",
        "\n",
        "        for i in range(B):\n",
        "            present_classes = torch.unique(source_labels[i])\n",
        "            num_select = max(1, int(len(present_classes)*self.selected_portion))\n",
        "            selected_classes = present_classes[torch.randperm(len(present_classes))[:num_select]]\n",
        "\n",
        "            mask[i] = torch.isin(source_labels[i], selected_classes)\n",
        "        \n",
        "        mask_img = mask.unsqueeze(1).expand_as(source_imgs)\n",
        "        \n",
        "        mixed_img = torch.where(mask_img, source_imgs, target_imgs)\n",
        "        mixed_label = torch.where(mask, source_labels, target_pseudo_labels)\n",
        "\n",
        "        return mixed_img, mixed_label\n"
      ]
    },
    {
      "cell_type": "markdown",
      "metadata": {
        "id": "0ia5-WeZ0op3"
      },
      "source": [
        "### Variables"
      ]
    },
    {
      "cell_type": "markdown",
      "metadata": {},
      "source": [
        "#### Dataset settings"
      ]
    },
    {
      "cell_type": "code",
      "execution_count": 4,
      "metadata": {},
      "outputs": [],
      "source": [
        "randomcrop = RandomCrop((512, 1024))\n",
        "\n",
        "s = 0.4\n",
        "source_augmentation = v2.Compose([\n",
        "    v2.RandomApply([v2.GaussianBlur(7)],p=0.5),\n",
        "    v2.RandomApply([v2.ColorJitter(brightness=s, contrast=s, saturation=s, hue=s)],p=0.5),\n",
        "    # v2.RandomApply([v2.GaussianNoise(mean=0.0, sigma=0.2)],p=0.5)\n",
        "])\n",
        "\n",
        "s = 0.1\n",
        "target_augmentation = v2.Compose([\n",
        "    v2.RandomApply([v2.GaussianBlur(3)],p=0.5),\n",
        "    v2.RandomApply([v2.ColorJitter(brightness=s, contrast=s, saturation=s, hue=s)],p=0.5),\n",
        "    # v2.RandomApply([v2.GaussianNoise(mean=0.0, sigma=0.03)],p=0.5)\n",
        "])\n",
        "\n",
        "s = 0.25\n",
        "mixed_augmentation = target_augmentation = v2.Compose([\n",
        "    v2.RandomApply([v2.GaussianBlur(7)],p=0.5),\n",
        "    v2.RandomApply([v2.ColorJitter(brightness=s, contrast=s, saturation=s, hue=s)],p=0.5),\n",
        "    # v2.RandomApply([v2.GaussianNoise(mean=0.0, sigma=0.03)],p=0.5)\n",
        "])\n",
        "\n",
        "# source_augmentation = nn.Identity()\n",
        "target_augmentation = nn.Identity()\n",
        "# mixed_augmentation = nn.Identity()\n",
        "\n",
        "\n",
        "resolution_source_dataset = (720, 1280)\n",
        "resolution_target_dataset = (512, 1024)\n",
        "\n",
        "toTensor = v2.ToTensor()\n",
        "normalize = v2.Normalize(mean=[0.485, 0.456, 0.406], std=[0.229, 0.224, 0.225])\n",
        "\n",
        "img_transform_target = v2.Compose([\n",
        "    toTensor,\n",
        "    v2.Resize(resolution_target_dataset),\n",
        "    # normalize\n",
        "])\n",
        "label_transform_target = v2.Compose([\n",
        "    toTensor,\n",
        "    v2.Resize(resolution_target_dataset, interpolation=v2.InterpolationMode.NEAREST),\n",
        "])\n",
        "\n",
        "img_transform_source = v2.Compose([\n",
        "    toTensor,\n",
        "    v2.Resize(resolution_source_dataset),\n",
        "    # normalize\n",
        "])\n",
        "\n",
        "label_transform_source = v2.Compose([\n",
        "    toTensor,\n",
        "    v2.Resize(resolution_source_dataset, interpolation=v2.InterpolationMode.NEAREST),\n",
        "])\n"
      ]
    },
    {
      "cell_type": "markdown",
      "metadata": {
        "id": "b5n1Dm1A0gjl"
      },
      "source": [
        "#### Logging"
      ]
    },
    {
      "cell_type": "code",
      "execution_count": 5,
      "metadata": {
        "id": "_HX9maPV0iVa"
      },
      "outputs": [],
      "source": [
        "ENABLE_PRINT = False\n",
        "ENABLE_WANDB_LOG = True\n",
        "log_per_epoch = 20\n",
        "n_classes = 19\n",
        "\n",
        "train_step = 0\n",
        "val_step = 0"
      ]
    },
    {
      "cell_type": "markdown",
      "metadata": {
        "id": "Jntcuf0zNwaq"
      },
      "source": [
        "#### Device"
      ]
    },
    {
      "cell_type": "code",
      "execution_count": 6,
      "metadata": {
        "colab": {
          "base_uri": "https://localhost:8080/"
        },
        "id": "Ie8Own_ANu_t",
        "outputId": "5bd867f3-0d35-432f-8b08-03bcaa2cd14e"
      },
      "outputs": [
        {
          "name": "stdout",
          "output_type": "stream",
          "text": [
            "cuda\n"
          ]
        }
      ],
      "source": [
        "device = torch.device('cuda') if torch.cuda.is_available() else torch.device('cpu')\n",
        "# device = torch.device('cpu')\n",
        "print(device)"
      ]
    },
    {
      "cell_type": "markdown",
      "metadata": {},
      "source": [
        "# Downloads"
      ]
    },
    {
      "cell_type": "markdown",
      "metadata": {
        "id": "BLfNdNzyMyxn"
      },
      "source": [
        "## CityScapes download"
      ]
    },
    {
      "cell_type": "code",
      "execution_count": 41,
      "metadata": {
        "colab": {
          "base_uri": "https://localhost:8080/",
          "height": 136,
          "referenced_widgets": [
            "93c53ea0fe8c4fdd8a97ba1a5ee71af3",
            "d0b6dc54747d46b5bf96f4b795b5627d",
            "940ea8bba0c64f78961399d4855eeace",
            "3d50ec68a6e6484dbef4b94d9b9bfd2a",
            "26559a2ed8ae4244b098950164fa0eb5",
            "4899af448b984d12bcc663899963447d",
            "166da3ac145f40d894f626ab60f82774",
            "e1d31ad13ffb4ad0a0a658c3f363eee6",
            "43d0c4a9221d45f9ba3a9c67eed8123d",
            "c62c4f0186b74b999cc2c7c8610f76de",
            "cbc43d6d534e4d439f95a1d694f7ac00"
          ]
        },
        "id": "B5p-mIhc2uIx",
        "outputId": "d689ad53-0a48-4ba5-d023-c1451dd7dc1e"
      },
      "outputs": [],
      "source": [
        "# !pip install -q gdown\n",
        "\n",
        "# file_id = \"1MI8QsvjW0R6WDJiL49L7sDGpPWYAQB6O\"\n",
        "# !gdown https://drive.google.com/uc?id={file_id}\n",
        "\n",
        "# pretty_extract(\"Cityscapes.zip\", \".\")\n"
      ]
    },
    {
      "cell_type": "markdown",
      "metadata": {
        "id": "iAxaUMhvM4E4"
      },
      "source": [
        "## GTA5 download"
      ]
    },
    {
      "cell_type": "code",
      "execution_count": 42,
      "metadata": {
        "colab": {
          "base_uri": "https://localhost:8080/",
          "height": 136,
          "referenced_widgets": [
            "f5f4c5d20eac43a7bee11061e5d36933",
            "d39adf153c8445da9829b09973db1553",
            "ca53b671cecf4f09b535f69950e76158",
            "b6438ae4a5e4474bbbfa7dbb7c806a16",
            "219f47ce4b8d4f3dac47e21d4d95c63f",
            "d143fab025d84a85abfe83c0767ebc28",
            "64cd3c2cc1d34100b8d861d14bcd6178",
            "581ce3cc835c4576a39255978c8526cb",
            "e59f8ab1c510475fb8c4d50a00a1df87",
            "69c6f32570574572a57963c78fb9d864",
            "6684ff67a8f14b94819fb4b3718be137"
          ]
        },
        "id": "O44WrKuLMxd4",
        "outputId": "e596a25a-e71c-492b-cf76-6020d898c5c4"
      },
      "outputs": [],
      "source": [
        "# !pip install -q gdown\n",
        "\n",
        "# file_id = \"1PWavqXDxuifsyYvs2PFua9sdMl0JG8AE\"\n",
        "# !gdown https://drive.google.com/uc?id={file_id}\n",
        "\n",
        "# pretty_extract(\"Gta5_extended.zip\", \"./Gta5_extended\")"
      ]
    },
    {
      "cell_type": "markdown",
      "metadata": {
        "id": "gEx91uPqlFv3"
      },
      "source": [
        "## DeepLabV2 model weights"
      ]
    },
    {
      "cell_type": "code",
      "execution_count": 43,
      "metadata": {
        "id": "52R4dm2elKPM"
      },
      "outputs": [],
      "source": [
        "# !pip install -q gdown\n",
        "\n",
        "# file_id = \"1KgYgBTmvq7UcBwKui2b4TomnbTmzJMBf\"\n",
        "# !gdown https://drive.google.com/uc?id={file_id}"
      ]
    },
    {
      "cell_type": "markdown",
      "metadata": {},
      "source": [
        "# Dataset"
      ]
    },
    {
      "cell_type": "markdown",
      "metadata": {
        "id": "YZME_xiNNE-g"
      },
      "source": [
        "## Cityscapes"
      ]
    },
    {
      "cell_type": "code",
      "execution_count": 7,
      "metadata": {
        "id": "fRCoySxr2fnu"
      },
      "outputs": [],
      "source": [
        "class CityScapes(Dataset):\n",
        "    def __init__(self, rootdir, split=\"train\", targetdir=\"gtFine\", imgdir=\"images\", transform=None, target_transform=None):\n",
        "        super(CityScapes, self).__init__()\n",
        "\n",
        "        self.rootdir = rootdir\n",
        "        self.split = split\n",
        "        self.targetdir = os.path.join(self.rootdir, targetdir, self.split) # ./gtFine/train/\n",
        "        self.imgdir = os.path.join(self.rootdir, imgdir, self.split) # ./images/train/\n",
        "        self.transform = transform\n",
        "        self.target_transform = target_transform\n",
        "\n",
        "        self.imgs_path = []\n",
        "        self.targets_color_path = []\n",
        "        self.targets_labelIds_path = []\n",
        "\n",
        "        for city in os.listdir(self.imgdir): # frankfurt\n",
        "            img_city_dir = os.path.join(self.imgdir, city) # ./images/train/frankfurt/\n",
        "            target_city_dir = os.path.join(self.targetdir, city) # ./gtFine/train/frankfurt/\n",
        "\n",
        "            for img_path in os.listdir(img_city_dir): # frankfurt_000000_000294_leftImg8bit.png\n",
        "                if img_path.endswith(\".png\"):\n",
        "                  self.imgs_path.append(os.path.join(img_city_dir, img_path)) # ./images/train/frankfurt/frankfurt_000000_000294_leftImg8bit.png\n",
        "\n",
        "                  target_color_path = img_path.replace(\"leftImg8bit\", \"gtFine_color\") # frankfurt_000000_000294_gtFine_color.png\n",
        "                  target_labelIds_path = img_path.replace(\"leftImg8bit\", \"gtFine_labelTrainIds\") # frankfurt_000000_000294_gtFine_labelTrainIds.png\n",
        "\n",
        "                  self.targets_color_path.append(os.path.join(target_city_dir, target_color_path)) # ./gtFine/train/frankfurt/frankfurt_000000_000294_gtFine_color.png\n",
        "                  self.targets_labelIds_path.append(os.path.join(target_city_dir, target_labelIds_path)) # ./gtFine/train/frankfurt/frankfurt_000000_000294_gtFine_labelTrainIds.png\n",
        "\n",
        "    def __getitem__(self, idx):\n",
        "        image = Image.open(self.imgs_path[idx]).convert('RGB')\n",
        "        target_color = Image.open(self.targets_color_path[idx]).convert('RGB')\n",
        "        target_labelIds = cv2.imread(self.targets_labelIds_path[idx], cv2.IMREAD_UNCHANGED).astype(np.int64)\n",
        "        \n",
        "        if self.transform is not None:\n",
        "            image = self.transform(image)\n",
        "            target_color = self.transform(target_color)\n",
        "        if self.target_transform is not None:\n",
        "            target_labelIds = self.target_transform(target_labelIds)\n",
        "\n",
        "        return image, target_color, target_labelIds\n",
        "\n",
        "    def __len__(self):\n",
        "        return len(self.imgs_path)\n"
      ]
    },
    {
      "cell_type": "markdown",
      "metadata": {
        "id": "LTki3m7aNH10"
      },
      "source": [
        "## GTA5"
      ]
    },
    {
      "cell_type": "code",
      "execution_count": 8,
      "metadata": {
        "id": "M9PeGPXYNKvT"
      },
      "outputs": [],
      "source": [
        "class GTA5(Dataset):\n",
        "    def __init__(self, rootdir, file_names, imgdir=\"images\", targetdir=\"labels\", augment=False, transform=None, target_transform=None):\n",
        "        super(GTA5, self).__init__()\n",
        "\n",
        "        self.to_tensor = v2.ToTensor()\n",
        "        self.to_pil = v2.ToPILImage()\n",
        "\n",
        "        self.gaussian_blur = v2.GaussianBlur(7)\n",
        "\n",
        "        s = 0.6\n",
        "        self.color_jitter = v2.ColorJitter(brightness=s, contrast=s, saturation=s, hue=0.1)\n",
        "        self.gaussian_noise = v2.GaussianNoise(mean=0.0, sigma=0.4)\n",
        "    \n",
        "        self.augmentations = {\n",
        "            self.gaussian_blur: 0.5,\n",
        "            self.color_jitter: 0.5,\n",
        "            self.gaussian_noise: 0.5\n",
        "        }\n",
        "\n",
        "        self.rootdir = rootdir\n",
        "\n",
        "        self.targetdir = os.path.join(self.rootdir, targetdir) # ./labels\n",
        "        self.imgdir = os.path.join(self.rootdir, imgdir) # ./images\n",
        "\n",
        "        self.augment = augment\n",
        "\n",
        "        self.transform = transform\n",
        "        self.target_transform = target_transform\n",
        "\n",
        "        self.imgs_path = []\n",
        "        self.targets_color_path = []\n",
        "        self.targets_labelIds_path = []\n",
        "\n",
        "        for image_file in file_names: # 00001.png\n",
        "            self.imgs_path.append(os.path.join(self.imgdir, image_file)) #./images/00001.png\n",
        "\n",
        "            target_color_path = image_file # 00001.png\n",
        "            target_labelsId_path = image_file.split(\".\")[0]+\"_labelIds.png\" # 00001_labelIds.png\n",
        "\n",
        "            self.targets_color_path.append(os.path.join(self.targetdir, target_color_path)) #./labels/00001.png\n",
        "            self.targets_labelIds_path.append(os.path.join(self.targetdir, target_labelsId_path)) #./labels/00001_labelIDs.png\n",
        "\n",
        "    def create_target_img(self):\n",
        "        list_ = GTA5Labels_TaskCV2017().list_\n",
        "\n",
        "        for i, img_path in tqdm(enumerate(self.targets_color_path)):\n",
        "            image_numpy = np.asarray(Image.open(img_path).convert('RGB'))\n",
        "\n",
        "            H, W, _ = image_numpy.shape\n",
        "            label_image = 255*np.ones((H, W), dtype=np.uint8)\n",
        "\n",
        "            for label in list_:\n",
        "                label_image[(image_numpy == label.color).all(axis=-1)] = label.ID\n",
        "\n",
        "            new_img = Image.fromarray(label_image)\n",
        "            new_img.save(self.targets_labelIds_path[i])\n",
        "\n",
        "    def __getitem__(self, idx):\n",
        "        image = Image.open(self.imgs_path[idx]).convert('RGB')\n",
        "        target_color = Image.open(self.targets_color_path[idx]).convert('RGB')\n",
        "        target_labelIds = cv2.imread(self.targets_labelIds_path[idx], cv2.IMREAD_UNCHANGED).astype(np.int64)\n",
        "\n",
        "        if self.augment:\n",
        "            image, target_color, target_labelIds = self.augment_data(image, target_color, target_labelIds)\n",
        "\n",
        "        if self.transform is not None:\n",
        "            image = self.transform(image)\n",
        "            target_color = self.transform(target_color)\n",
        "        if self.target_transform is not None:\n",
        "            target_labelIds = self.target_transform(target_labelIds)\n",
        "\n",
        "        return image, target_color, target_labelIds\n",
        "\n",
        "    def __len__(self):\n",
        "        return len(self.imgs_path)\n",
        "\n",
        "    def augment_data(self, image, target_color, target_labelIds):\n",
        "        image = self.to_tensor(image)\n",
        "\n",
        "    # Geometric Transformations\n",
        "        # Horizontal Flip\n",
        "        # img_tensor = v2.functional.hflip(img_tensor)\n",
        "        # target_color = np.fliplr(target_color).copy()\n",
        "        # target_labelIds = np.fliplr(target_labelIds).copy()\n",
        "\n",
        "        for augmentation, p in self.augmentations.items():\n",
        "            if random.random() < p:\n",
        "                image = augmentation(image)\n",
        "\n",
        "        image = torch.clamp(image, 0.0, 1.0)\n",
        "        image = self.to_pil(image)\n",
        "\n",
        "        return image, target_color, target_labelIds\n",
        "\n",
        "\n",
        "def GTA5_dataset_splitter(rootdir, train_split_percent, split_seed = None, imgdir=\"images\", targetdir=\"labels\", augment=False, transform=None, target_transform=None):\n",
        "    assert 0.0 <= train_split_percent <= 1.0, \"train_split_percent should be a float between 0 and 1\"\n",
        "\n",
        "    target_path = os.path.join(rootdir, targetdir) # ./labels\n",
        "    img_path = os.path.join(rootdir, imgdir) # ./images\n",
        "\n",
        "    file_names = [\n",
        "        f for f in os.listdir(img_path)\n",
        "        if f.endswith(\".png\") and os.path.exists(os.path.join(target_path, f.split(\".\")[0]+\"_labelIds.png\"))\n",
        "    ]\n",
        "\n",
        "    if split_seed is not None:\n",
        "        random.seed(split_seed)\n",
        "    random.shuffle(file_names)\n",
        "    random.seed()\n",
        "\n",
        "    split_idx = int(len(file_names) * train_split_percent)\n",
        "\n",
        "    train_files = file_names[:split_idx]\n",
        "    val_files = file_names[split_idx:]\n",
        "\n",
        "    return GTA5(rootdir, train_files, imgdir, targetdir, augment, transform, target_transform), \\\n",
        "           GTA5(rootdir, val_files, imgdir, targetdir, False, transform, target_transform)\n"
      ]
    },
    {
      "cell_type": "markdown",
      "metadata": {},
      "source": [
        "# Model"
      ]
    },
    {
      "cell_type": "markdown",
      "metadata": {
        "id": "O2ybDTYzv0ZS"
      },
      "source": [
        "## Bisenet"
      ]
    },
    {
      "cell_type": "code",
      "execution_count": 9,
      "metadata": {
        "id": "MbAqrak4u5Ce"
      },
      "outputs": [],
      "source": [
        "class resnet18(torch.nn.Module):\n",
        "    def __init__(self, pretrained=True):\n",
        "        super().__init__()\n",
        "        self.features = models.resnet18(pretrained=pretrained)\n",
        "        self.conv1 = self.features.conv1\n",
        "        self.bn1 = self.features.bn1\n",
        "        self.relu = self.features.relu\n",
        "        self.maxpool1 = self.features.maxpool\n",
        "        self.layer1 = self.features.layer1\n",
        "        self.layer2 = self.features.layer2\n",
        "        self.layer3 = self.features.layer3\n",
        "        self.layer4 = self.features.layer4\n",
        "\n",
        "    def forward(self, input):\n",
        "        x = self.conv1(input)\n",
        "        x = self.relu(self.bn1(x))\n",
        "        x = self.maxpool1(x)\n",
        "        feature1 = self.layer1(x)  # 1 / 4\n",
        "        feature2 = self.layer2(feature1)  # 1 / 8\n",
        "        feature3 = self.layer3(feature2)  # 1 / 16\n",
        "        feature4 = self.layer4(feature3)  # 1 / 32\n",
        "        # global average pooling to build tail\n",
        "        tail = torch.mean(feature4, 3, keepdim=True)\n",
        "        tail = torch.mean(tail, 2, keepdim=True)\n",
        "        return feature3, feature4, tail\n",
        "\n",
        "\n",
        "class resnet101(torch.nn.Module):\n",
        "    def __init__(self, pretrained=True):\n",
        "        super().__init__()\n",
        "        self.features = models.resnet101(pretrained=pretrained)\n",
        "        self.conv1 = self.features.conv1\n",
        "        self.bn1 = self.features.bn1\n",
        "        self.relu = self.features.relu\n",
        "        self.maxpool1 = self.features.maxpool\n",
        "        self.layer1 = self.features.layer1\n",
        "        self.layer2 = self.features.layer2\n",
        "        self.layer3 = self.features.layer3\n",
        "        self.layer4 = self.features.layer4\n",
        "\n",
        "    def forward(self, input):\n",
        "        x = self.conv1(input)\n",
        "        x = self.relu(self.bn1(x))\n",
        "        x = self.maxpool1(x)\n",
        "        feature1 = self.layer1(x)  # 1 / 4\n",
        "        feature2 = self.layer2(feature1)  # 1 / 8\n",
        "        feature3 = self.layer3(feature2)  # 1 / 16\n",
        "        feature4 = self.layer4(feature3)  # 1 / 32\n",
        "        # global average pooling to build tail\n",
        "        tail = torch.mean(feature4, 3, keepdim=True)\n",
        "        tail = torch.mean(tail, 2, keepdim=True)\n",
        "        return feature3, feature4, tail\n",
        "\n",
        "\n",
        "def build_contextpath(name):\n",
        "    model = {\n",
        "        'resnet18': resnet18(pretrained=True),\n",
        "        'resnet101': resnet101(pretrained=True)\n",
        "    }\n",
        "    return model[name]\n",
        "\n",
        "class ConvBlock(torch.nn.Module):\n",
        "    def __init__(self, in_channels, out_channels, kernel_size=3, stride=2, padding=1):\n",
        "        super().__init__()\n",
        "        self.conv1 = nn.Conv2d(in_channels, out_channels, kernel_size=kernel_size,\n",
        "                               stride=stride, padding=padding, bias=False)\n",
        "        self.bn = nn.BatchNorm2d(out_channels)\n",
        "        self.relu = nn.ReLU()\n",
        "\n",
        "    def forward(self, input):\n",
        "        x = self.conv1(input)\n",
        "        return self.relu(self.bn(x))\n",
        "\n",
        "\n",
        "class Spatial_path(torch.nn.Module):\n",
        "    def __init__(self):\n",
        "        super().__init__()\n",
        "        self.convblock1 = ConvBlock(in_channels=3, out_channels=64)\n",
        "        self.convblock2 = ConvBlock(in_channels=64, out_channels=128)\n",
        "        self.convblock3 = ConvBlock(in_channels=128, out_channels=256)\n",
        "\n",
        "    def forward(self, input):\n",
        "        x = self.convblock1(input)\n",
        "        x = self.convblock2(x)\n",
        "        x = self.convblock3(x)\n",
        "        return x\n",
        "\n",
        "\n",
        "class AttentionRefinementModule(torch.nn.Module):\n",
        "    def __init__(self, in_channels, out_channels):\n",
        "        super().__init__()\n",
        "        self.conv = nn.Conv2d(in_channels, out_channels, kernel_size=1)\n",
        "        self.bn = nn.BatchNorm2d(out_channels)\n",
        "        self.sigmoid = nn.Sigmoid()\n",
        "        self.in_channels = in_channels\n",
        "        self.avgpool = nn.AdaptiveAvgPool2d(output_size=(1, 1))\n",
        "\n",
        "    def forward(self, input):\n",
        "        # global average pooling\n",
        "        x = self.avgpool(input)\n",
        "        assert self.in_channels == x.size(1), 'in_channels and out_channels should all be {}'.format(x.size(1))\n",
        "        x = self.conv(x)\n",
        "        x = self.sigmoid(self.bn(x))\n",
        "        # x = self.sigmoid(x)\n",
        "        # channels of input and x should be same\n",
        "        x = torch.mul(input, x)\n",
        "        return x\n",
        "\n",
        "\n",
        "class FeatureFusionModule(torch.nn.Module):\n",
        "    def __init__(self, num_classes, in_channels):\n",
        "        super().__init__()\n",
        "        # self.in_channels = input_1.channels + input_2.channels\n",
        "        # resnet101 3328 = 256(from spatial path) + 1024(from context path) + 2048(from context path)\n",
        "        # resnet18  1024 = 256(from spatial path) + 256(from context path) + 512(from context path)\n",
        "        self.in_channels = in_channels\n",
        "\n",
        "        self.convblock = ConvBlock(in_channels=self.in_channels, out_channels=num_classes, stride=1)\n",
        "        self.conv1 = nn.Conv2d(num_classes, num_classes, kernel_size=1)\n",
        "        self.relu = nn.ReLU()\n",
        "        self.conv2 = nn.Conv2d(num_classes, num_classes, kernel_size=1)\n",
        "        self.sigmoid = nn.Sigmoid()\n",
        "        self.avgpool = nn.AdaptiveAvgPool2d(output_size=(1, 1))\n",
        "\n",
        "    def forward(self, input_1, input_2):\n",
        "        x = torch.cat((input_1, input_2), dim=1)\n",
        "        assert self.in_channels == x.size(1), 'in_channels of ConvBlock should be {}'.format(x.size(1))\n",
        "        feature = self.convblock(x)\n",
        "        x = self.avgpool(feature)\n",
        "\n",
        "        x = self.relu(self.conv1(x))\n",
        "        x = self.sigmoid(self.conv2(x))\n",
        "        x = torch.mul(feature, x)\n",
        "        x = torch.add(x, feature)\n",
        "        return x\n",
        "\n",
        "\n",
        "class BiSeNet(torch.nn.Module):\n",
        "    def __init__(self, num_classes, context_path):\n",
        "        super().__init__()\n",
        "        # build spatial path\n",
        "        self.spatial_path = Spatial_path()\n",
        "\n",
        "        # build context path\n",
        "        self.context_path = build_contextpath(name=context_path)\n",
        "\n",
        "        # build attention refinement module  for resnet 101\n",
        "        if context_path == 'resnet101':\n",
        "            self.attention_refinement_module1 = AttentionRefinementModule(1024, 1024)\n",
        "            self.attention_refinement_module2 = AttentionRefinementModule(2048, 2048)\n",
        "            # supervision block\n",
        "            self.supervision1 = nn.Conv2d(in_channels=1024, out_channels=num_classes, kernel_size=1)\n",
        "            self.supervision2 = nn.Conv2d(in_channels=2048, out_channels=num_classes, kernel_size=1)\n",
        "            # build feature fusion module\n",
        "            self.feature_fusion_module = FeatureFusionModule(num_classes, 3328)\n",
        "\n",
        "        elif context_path == 'resnet18':\n",
        "            # build attention refinement module  for resnet 18\n",
        "            self.attention_refinement_module1 = AttentionRefinementModule(256, 256)\n",
        "            self.attention_refinement_module2 = AttentionRefinementModule(512, 512)\n",
        "            # supervision block\n",
        "            self.supervision1 = nn.Conv2d(in_channels=256, out_channels=num_classes, kernel_size=1)\n",
        "            self.supervision2 = nn.Conv2d(in_channels=512, out_channels=num_classes, kernel_size=1)\n",
        "            # build feature fusion module\n",
        "            self.feature_fusion_module = FeatureFusionModule(num_classes, 1024)\n",
        "        else:\n",
        "            print('Error: unspport context_path network \\n')\n",
        "\n",
        "        # build final convolution\n",
        "        self.conv = nn.Conv2d(in_channels=num_classes, out_channels=num_classes, kernel_size=1)\n",
        "\n",
        "        self.init_weight()\n",
        "\n",
        "        self.mul_lr = []\n",
        "        self.mul_lr.append(self.spatial_path)\n",
        "        self.mul_lr.append(self.attention_refinement_module1)\n",
        "        self.mul_lr.append(self.attention_refinement_module2)\n",
        "        self.mul_lr.append(self.supervision1)\n",
        "        self.mul_lr.append(self.supervision2)\n",
        "        self.mul_lr.append(self.feature_fusion_module)\n",
        "        self.mul_lr.append(self.conv)\n",
        "\n",
        "    def init_weight(self):\n",
        "        for name, m in self.named_modules():\n",
        "            if 'context_path' not in name:\n",
        "                if isinstance(m, nn.Conv2d):\n",
        "                    nn.init.kaiming_normal_(m.weight, mode='fan_in', nonlinearity='relu')\n",
        "                elif isinstance(m, nn.BatchNorm2d):\n",
        "                    m.eps = 1e-5\n",
        "                    m.momentum = 0.1\n",
        "                    nn.init.constant_(m.weight, 1)\n",
        "                    nn.init.constant_(m.bias, 0)\n",
        "\n",
        "    def forward(self, input):\n",
        "        # output of spatial path\n",
        "        sx = self.spatial_path(input)\n",
        "\n",
        "        # output of context path\n",
        "        cx1, cx2, tail = self.context_path(input)\n",
        "        cx1 = self.attention_refinement_module1(cx1)\n",
        "        cx2 = self.attention_refinement_module2(cx2)\n",
        "        cx2 = torch.mul(cx2, tail)\n",
        "        # upsampling\n",
        "        cx1 = torch.nn.functional.interpolate(cx1, size=sx.size()[-2:], mode='bilinear')\n",
        "        cx2 = torch.nn.functional.interpolate(cx2, size=sx.size()[-2:], mode='bilinear')\n",
        "        cx = torch.cat((cx1, cx2), dim=1)\n",
        "\n",
        "        if self.training == True:\n",
        "            cx1_sup = self.supervision1(cx1)\n",
        "            cx2_sup = self.supervision2(cx2)\n",
        "            cx1_sup = torch.nn.functional.interpolate(cx1_sup, size=input.size()[-2:], mode='bilinear')\n",
        "            cx2_sup = torch.nn.functional.interpolate(cx2_sup, size=input.size()[-2:], mode='bilinear')\n",
        "\n",
        "        # output of feature fusion module\n",
        "        result = self.feature_fusion_module(sx, cx)\n",
        "\n",
        "        # upsampling\n",
        "        result = torch.nn.functional.interpolate(result, scale_factor=8, mode='bilinear')\n",
        "        result = self.conv(result)\n",
        "\n",
        "        if self.training == True:\n",
        "            return result, cx1_sup, cx2_sup\n",
        "\n",
        "        return result\n",
        "\n",
        "class BiSeNetWithHRDA(BiSeNet):\n",
        "    def hrda_crop(self, img, label=None, crop_size=(512, 1024)) -> tuple[torch.Tensor, torch.Tensor, torch.Tensor, torch.Tensor, tuple[int,int,int,int]]:\n",
        "        \"\"\"\n",
        "        Crop a high-res patch and return both full LR and cropped HR image + label if provided.\n",
        "        \"\"\"\n",
        "        _, _, H, W = img.shape\n",
        "        ch, cw = crop_size\n",
        "        x1 = random.randint(0, W - cw)\n",
        "        y1 = random.randint(0, H - ch)\n",
        "\n",
        "        hr_img = img[:, :, y1:y1+ch, x1:x1+cw]\n",
        "        hr_label = label[:, :, y1:y1+ch, x1:x1+cw] if label is not None else None\n",
        "\n",
        "        return img, label, hr_img, hr_label, (x1, y1, cw, ch)\n",
        "\n",
        "    def hrda_forward(self, lr_img, hr_img, crop_coords) -> tuple[torch.Tensor, tuple[torch.Tensor, torch.Tensor], tuple[torch.Tensor, torch.Tensor], tuple[torch.Tensor, torch.Tensor]]:\n",
        "        \"\"\"\n",
        "        Full HRDA forward: low-res + high-res + fusion\n",
        "        \"\"\"\n",
        "        lr_out, lr_cx1, lr_cx2 = self(lr_img)\n",
        "        hr_out, hr_cx1, hr_cx2 = self(hr_img)\n",
        "\n",
        "        fused = self.hrda_fuse(lr_out, hr_out, crop_coords)\n",
        "\n",
        "        return fused, (lr_out, hr_out), (lr_cx1, lr_cx2), (hr_cx1, hr_cx2)\n",
        "\n",
        "    def hrda_fuse(self, lr_out, hr_out, crop_coords) -> torch.Tensor:\n",
        "        \"\"\"\n",
        "        Overwrite or confidence-based fusion of HR patch into LR output.\n",
        "        \"\"\"\n",
        "        x1, y1, cw, ch = crop_coords\n",
        "        fused = lr_out.clone()\n",
        "\n",
        "        # Option 1: Overwrite fusion\n",
        "        fused[:, :, y1:y1+ch, x1:x1+cw] = hr_out\n",
        "\n",
        "        # Option 2: Confidence-weighted fusion\n",
        "        # conf_hr, _ = torch.max(torch.softmax(hr_out, dim=1), dim=1, keepdim=True)\n",
        "        # conf_lr, _ = torch.max(torch.softmax(fused[:, :, y1:y1+ch, x1:x1+cw], dim=1), dim=1, keepdim=True)\n",
        "        # mask = conf_hr > conf_lr\n",
        "        # fused[:, :, y1:y1+ch, x1:x1+cw] = torch.where(mask, hr_out, fused[:, :, y1:y1+ch, x1:x1+cw])\n",
        "\n",
        "        return fused\n"
      ]
    },
    {
      "cell_type": "markdown",
      "metadata": {
        "id": "XPTyvGv0fQd8"
      },
      "source": [
        "## DeepLabV2"
      ]
    },
    {
      "cell_type": "code",
      "execution_count": 10,
      "metadata": {
        "id": "udxI_SIZfUQR"
      },
      "outputs": [],
      "source": [
        "affine_par = True\n",
        "\n",
        "class Bottleneck(nn.Module):\n",
        "    expansion = 4\n",
        "\n",
        "    def __init__(self, inplanes, planes, stride=1, dilation=1, downsample=None):\n",
        "        super(Bottleneck, self).__init__()\n",
        "        self.conv1 = nn.Conv2d(inplanes, planes, kernel_size=1, stride=stride, bias=False)\n",
        "        self.bn1 = nn.BatchNorm2d(planes, affine=affine_par)\n",
        "        for i in self.bn1.parameters():\n",
        "            i.requires_grad = False\n",
        "        padding = dilation\n",
        "        self.conv2 = nn.Conv2d(planes, planes, kernel_size=3, stride=1,\n",
        "                               padding=padding, bias=False, dilation=dilation)\n",
        "        self.bn2 = nn.BatchNorm2d(planes, affine=affine_par)\n",
        "        for i in self.bn2.parameters():\n",
        "            i.requires_grad = False\n",
        "        self.conv3 = nn.Conv2d(planes, planes * 4, kernel_size=1, bias=False)\n",
        "        self.bn3 = nn.BatchNorm2d(planes * 4, affine=affine_par)\n",
        "        for i in self.bn3.parameters():\n",
        "            i.requires_grad = False\n",
        "        self.relu = nn.ReLU(inplace=True)\n",
        "        self.downsample = downsample\n",
        "        self.stride = stride\n",
        "\n",
        "    def forward(self, x):\n",
        "        residual = x\n",
        "        out = self.conv1(x)\n",
        "        out = self.bn1(out)\n",
        "        out = self.relu(out)\n",
        "        out = self.conv2(out)\n",
        "        out = self.bn2(out)\n",
        "        out = self.relu(out)\n",
        "        out = self.conv3(out)\n",
        "        out = self.bn3(out)\n",
        "        if self.downsample is not None:\n",
        "            residual = self.downsample(x)\n",
        "        out += residual\n",
        "        out = self.relu(out)\n",
        "\n",
        "        return out\n",
        "\n",
        "\n",
        "class ClassifierModule(nn.Module):\n",
        "    def __init__(self, inplanes, dilation_series, padding_series, num_classes):\n",
        "        super(ClassifierModule, self).__init__()\n",
        "        self.conv2d_list = nn.ModuleList()\n",
        "        for dilation, padding in zip(dilation_series, padding_series):\n",
        "            self.conv2d_list.append(\n",
        "                nn.Conv2d(inplanes, num_classes, kernel_size=3, stride=1, padding=padding,\n",
        "                          dilation=dilation, bias=True))\n",
        "\n",
        "        for m in self.conv2d_list:\n",
        "            m.weight.data.normal_(0, 0.01)\n",
        "\n",
        "    def forward(self, x):\n",
        "        out = self.conv2d_list[0](x)\n",
        "        for i in range(len(self.conv2d_list) - 1):\n",
        "            out += self.conv2d_list[i + 1](x)\n",
        "        return out\n",
        "\n",
        "\n",
        "class ResNetMulti(nn.Module):\n",
        "    def __init__(self, block, layers, num_classes):\n",
        "        self.inplanes = 64\n",
        "        super(ResNetMulti, self).__init__()\n",
        "        self.conv1 = nn.Conv2d(3, 64, kernel_size=7, stride=2, padding=3,\n",
        "                               bias=False)\n",
        "        self.bn1 = nn.BatchNorm2d(64, affine=affine_par)\n",
        "        for i in self.bn1.parameters():\n",
        "            i.requires_grad = False\n",
        "        self.relu = nn.ReLU(inplace=True)\n",
        "        self.maxpool = nn.MaxPool2d(kernel_size=3, stride=2, padding=1, ceil_mode=True)  # change\n",
        "        self.layer1 = self._make_layer(block, 64, layers[0])\n",
        "        self.layer2 = self._make_layer(block, 128, layers[1], stride=2)\n",
        "        self.layer3 = self._make_layer(block, 256, layers[2], stride=1, dilation=2)\n",
        "        self.layer4 = self._make_layer(block, 512, layers[3], stride=1, dilation=4)\n",
        "        self.layer6 = ClassifierModule(2048, [6, 12, 18, 24], [6, 12, 18, 24], num_classes)\n",
        "        for m in self.modules():\n",
        "            if isinstance(m, nn.Conv2d):\n",
        "                m.weight.data.normal_(0, 0.01)\n",
        "            elif isinstance(m, nn.BatchNorm2d):\n",
        "                m.weight.data.fill_(1)\n",
        "                m.bias.data.zero_()\n",
        "\n",
        "    def _make_layer(self, block, planes, blocks, stride=1, dilation=1):\n",
        "        downsample = None\n",
        "        if (stride != 1\n",
        "                or self.inplanes != planes * block.expansion\n",
        "                or dilation == 2\n",
        "                or dilation == 4):\n",
        "            downsample = nn.Sequential(\n",
        "                nn.Conv2d(self.inplanes, planes * block.expansion,\n",
        "                          kernel_size=1, stride=stride, bias=False),\n",
        "                nn.BatchNorm2d(planes * block.expansion, affine=affine_par))\n",
        "        for i in downsample._modules['1'].parameters():\n",
        "            i.requires_grad = False\n",
        "        layers = []\n",
        "        layers.append(\n",
        "            block(self.inplanes, planes, stride, dilation=dilation, downsample=downsample))\n",
        "        self.inplanes = planes * block.expansion\n",
        "        for i in range(1, blocks):\n",
        "            layers.append(block(self.inplanes, planes, dilation=dilation))\n",
        "\n",
        "        return nn.Sequential(*layers)\n",
        "\n",
        "    def forward(self, x):\n",
        "        _, _, H, W = x.size()\n",
        "\n",
        "        x = self.conv1(x)\n",
        "        x = self.bn1(x)\n",
        "        x = self.relu(x)\n",
        "        x = self.maxpool(x)\n",
        "        x = self.layer1(x)\n",
        "        x = self.layer2(x)\n",
        "        x = self.layer3(x)\n",
        "        x = self.layer4(x)\n",
        "        x = self.layer6(x)\n",
        "\n",
        "        x = torch.nn.functional.interpolate(x, size=(H, W), mode='bilinear')\n",
        "\n",
        "        if self.training == True:\n",
        "            return x, None, None\n",
        "\n",
        "        return x\n",
        "\n",
        "    def get_1x_lr_params_no_scale(self):\n",
        "        \"\"\"\n",
        "        This generator returns all the parameters of the net except for\n",
        "        the last classification layer. Note that for each batchnorm layer,\n",
        "        requires_grad is set to False in deeplab_resnet.py, therefore this function does not return\n",
        "        any batchnorm parameter\n",
        "        \"\"\"\n",
        "        b = []\n",
        "\n",
        "        b.append(self.conv1)\n",
        "        b.append(self.bn1)\n",
        "        b.append(self.layer1)\n",
        "        b.append(self.layer2)\n",
        "        b.append(self.layer3)\n",
        "        b.append(self.layer4)\n",
        "\n",
        "        for i in range(len(b)):\n",
        "            for j in b[i].modules():\n",
        "                jj = 0\n",
        "                for k in j.parameters():\n",
        "                    jj += 1\n",
        "                    if k.requires_grad:\n",
        "                        yield k\n",
        "\n",
        "    def get_10x_lr_params(self):\n",
        "        \"\"\"\n",
        "        This generator returns all the parameters for the last layer of the net,\n",
        "        which does the classification of pixel into classes\n",
        "        \"\"\"\n",
        "        b = []\n",
        "        if self.multi_level:\n",
        "            b.append(self.layer5.parameters())\n",
        "        b.append(self.layer6.parameters())\n",
        "\n",
        "        for j in range(len(b)):\n",
        "            for i in b[j]:\n",
        "                yield i\n",
        "\n",
        "    def optim_parameters(self, lr):\n",
        "        return [{'params': self.get_1x_lr_params_no_scale(), 'lr': lr},\n",
        "                {'params': self.get_10x_lr_params(), 'lr': 10 * lr}]\n",
        "\n",
        "\n",
        "def get_deeplab_v2(num_classes=19, pretrain=True, pretrain_model_path='deeplab_resnet_pretrained_imagenet.pth'):\n",
        "    model = ResNetMulti(Bottleneck, [3, 4, 23, 3], num_classes)\n",
        "\n",
        "    # Pretraining loading\n",
        "    if pretrain:\n",
        "        print('Deeplab pretraining loading...')\n",
        "        saved_state_dict = torch.load(pretrain_model_path)\n",
        "\n",
        "        new_params = model.state_dict().copy()\n",
        "        for i in saved_state_dict:\n",
        "            i_parts = i.split('.')\n",
        "            new_params['.'.join(i_parts[1:])] = saved_state_dict[i]\n",
        "        model.load_state_dict(new_params, strict=False)\n",
        "\n",
        "    return model\n"
      ]
    },
    {
      "cell_type": "markdown",
      "metadata": {
        "id": "o9ffq97eM8Rg"
      },
      "source": [
        "# Train/Val loops"
      ]
    },
    {
      "cell_type": "markdown",
      "metadata": {
        "id": "w0KuuGIWNAbF"
      },
      "source": [
        "## Train Loop"
      ]
    },
    {
      "cell_type": "markdown",
      "metadata": {},
      "source": [
        "### Train step 3"
      ]
    },
    {
      "cell_type": "code",
      "execution_count": 11,
      "metadata": {
        "id": "-slUs8vsNAEe"
      },
      "outputs": [],
      "source": [
        "def train3(model:nn.Module, train_loader:DataLoader, criterion:nn.Module, optimizer:optim.Optimizer) -> tuple[float, float, torch.Tensor, torch.Tensor]:\n",
        "    global device\n",
        "    global n_classes\n",
        "    global ENABLE_PRINT\n",
        "    global ENABLE_WANDB_LOG\n",
        "    global train_step\n",
        "    global log_per_epoch\n",
        "\n",
        "    model.train()\n",
        "\n",
        "    num_batch = len(train_loader)\n",
        "    chunk_batch = num_batch//log_per_epoch+1\n",
        "\n",
        "    num_sample = len(train_loader.dataset)\n",
        "    seen_sample = 0\n",
        "\n",
        "    train_loss = 0.0\n",
        "    train_hist = torch.zeros((n_classes,n_classes), device=device)\n",
        "\n",
        "    for batch_idx, (inputs, _, targets) in enumerate(train_loader):\n",
        "        batch_size = inputs.size(0)\n",
        "        seen_sample += batch_size\n",
        "\n",
        "        inputs, targets = inputs.to(device), targets.squeeze().to(device)\n",
        "\n",
        "        outputs, cx1_sup, cx2_sup = model(inputs)\n",
        "\n",
        "        if cx1_sup is None and cx2_sup is None:\n",
        "            loss = criterion(outputs, targets) + criterion(cx1_sup, targets) + criterion(cx2_sup, targets)\n",
        "        else:\n",
        "            loss = criterion(outputs, targets)\n",
        "\n",
        "        optimizer.zero_grad()\n",
        "        loss.backward()\n",
        "        optimizer.step()\n",
        "\n",
        "        predicted = outputs.argmax(1)\n",
        "\n",
        "        hist_batch = fast_hist_cuda(targets.view(-1).detach(), predicted.view(-1).detach(), n_classes)\n",
        "\n",
        "        train_loss += loss.item() * batch_size\n",
        "        train_hist += hist_batch\n",
        "\n",
        "        if ((batch_idx+1) % chunk_batch) == 0:\n",
        "            iou_batch = per_class_iou_cuda(hist_batch)\n",
        "            if ENABLE_PRINT:\n",
        "                    print(f'Training [{seen_sample}/{num_sample} ({100. * seen_sample / num_sample:.0f}%)]')\n",
        "                    print(f'\\tLoss: {loss.item():.6f}')\n",
        "                    print(f\"\\tmIoU: {100.*iou_batch[iou_batch > 0].mean():.4f}\")\n",
        "\n",
        "            if ENABLE_WANDB_LOG:\n",
        "                wandb.log({\n",
        "                        \"train/step\": train_step,\n",
        "                        \"train/batch_loss\": loss.item(),\n",
        "                        \"train/batch_mIou\": 100.*iou_batch[iou_batch > 0].mean()\n",
        "                    },\n",
        "                    commit=True,\n",
        "                )\n",
        "                train_step += 1\n",
        "\n",
        "    train_loss = train_loss / seen_sample\n",
        "\n",
        "    train_iou_class = per_class_iou_cuda(train_hist)\n",
        "    train_mIou = train_iou_class[train_iou_class > 0].mean().item()\n",
        "\n",
        "    return train_loss, train_mIou, train_iou_class, train_hist \n"
      ]
    },
    {
      "cell_type": "markdown",
      "metadata": {},
      "source": [
        "### Train step 4"
      ]
    },
    {
      "cell_type": "code",
      "execution_count": 12,
      "metadata": {},
      "outputs": [],
      "source": [
        "def train4(model:nn.Module, source_loader:DataLoader, target_loader:DataLoader, criterion:nn.Module, optimizer:optim.Optimizer, classmixer:ClassMixer) -> tuple[float, float, torch.Tensor, torch.Tensor]:\n",
        "    global device\n",
        "    global n_classes\n",
        "    global ENABLE_PRINT\n",
        "    global ENABLE_WANDB_LOG\n",
        "    global train_step\n",
        "    global log_per_epoch\n",
        "\n",
        "    model.train()\n",
        "\n",
        "    num_batch = len(source_loader)\n",
        "    chunk_batch = num_batch//log_per_epoch+1\n",
        "\n",
        "    num_sample = len(source_loader.dataset)\n",
        "    seen_sample = 0\n",
        "\n",
        "    train_loss = 0.0\n",
        "    train_hist = torch.zeros((n_classes,n_classes), device=device)\n",
        "    \n",
        "    # NOTE: threshold = 0.968, from https://github.com/vikolss/DACS/blob/cc6a87f23b1c81ae32edad767b9772258774a974/trainUDA.py#L467\n",
        "    for batch_idx, ((inputs_src, _, label_source), (inputs_target, _, _)) in tqdm(enumerate(zip(source_loader, target_loader)), total=min(len(source_loader), len(target_loader))):\n",
        "        inputs_src, label_source = inputs_src.to(device), label_source.squeeze().to(device)\n",
        "        inputs_target = inputs_target.to(device)        \n",
        "    \n",
        "        \n",
        "        inputs_target = target_augmentation(inputs_target)\n",
        "\n",
        "\n",
        "        inputs_src, label_source = randomcrop(inputs_src, label_source)\n",
        "        inputs_target, _ = randomcrop(inputs_target, None)\n",
        "        \n",
        "        \n",
        "        B = inputs_src.size(0) + inputs_target.size(0)\n",
        "        seen_sample += B\n",
        "        \n",
        "        \n",
        "        with torch.no_grad():\n",
        "            outputs_target = model(normalize(inputs_target).detach())[0]\n",
        "        label_target = outputs_target.argmax(1)\n",
        "\n",
        "\n",
        "        inputs_mixed, label_mixed = classmixer(inputs_src, inputs_target, label_source, label_target)\n",
        "\n",
        "        inputs_src = source_augmentation(inputs_src)\n",
        "        inputs_mixed = mixed_augmentation(inputs_mixed)\n",
        "\n",
        "        inputs_src = normalize(inputs_src)\n",
        "        inputs_mixed = normalize(inputs_mixed)\n",
        "\n",
        "\n",
        "        outputs_source, cx1_sup_src, cx2_sup_src = model(inputs_src.detach())\n",
        "        outputs_mixed, cx1_sup_mixed, cx2_sup_mixed = model(inputs_mixed.detach())\n",
        "        \n",
        "\n",
        "        # Loss calculation:    \n",
        "        # NOTE: the auxilliary losses may not be used\n",
        "        l1 = criterion(outputs_source, label_source) + criterion(cx1_sup_src, label_source) + criterion(cx2_sup_src, label_source)\n",
        "        l2 = criterion(outputs_mixed, label_mixed) + criterion(cx1_sup_mixed, label_mixed) + criterion(cx2_sup_mixed, label_mixed)\n",
        "\n",
        "        predicted_source = outputs_source.argmax(1)\n",
        "        max_probs, predicted_mixed = torch.softmax(outputs_mixed, 1).max(1)\n",
        "\n",
        "        f = (max_probs >= 0.968).float()\n",
        "        if f.size(-1) > 0:\n",
        "            lambda_ = f.mean().item()\n",
        "        else:\n",
        "            lambda_ = 0\n",
        "\n",
        "        loss = l1 + lambda_*l2\n",
        "\n",
        "\n",
        "        optimizer.zero_grad()\n",
        "        loss.backward()\n",
        "        optimizer.step()\n",
        "\n",
        "        y, y_pred = torch.reshape(torch.cat((label_source,      label_mixed)),     (-1,)),\\\n",
        "                    torch.reshape(torch.cat((predicted_source,  predicted_mixed)), (-1,)) \n",
        "\n",
        "        hist_batch = fast_hist_cuda(y, y_pred, n_classes)\n",
        "\n",
        "        train_loss += loss.item() * B\n",
        "        train_hist += hist_batch\n",
        "\n",
        "        if ((batch_idx+1) % chunk_batch) == 0:\n",
        "            iou_batch = per_class_iou_cuda(hist_batch)\n",
        "            if ENABLE_PRINT:\n",
        "                    print(f'Training [{seen_sample}/{num_sample} ({100. * seen_sample / num_sample:.0f}%)]')\n",
        "                    print(f'\\tLoss: {loss.item():.6f}')\n",
        "                    print(f\"\\tmIoU: {100.*iou_batch[iou_batch > 0].mean():.4f}\")\n",
        "                    print(f\"\\tunsupervised_confidence: {lambda_}\")\n",
        "\n",
        "            if ENABLE_WANDB_LOG:\n",
        "                wandb.log({\n",
        "                        \"train/step\": train_step,\n",
        "                        \"train/batch_loss\": loss.item(),\n",
        "                        \"train/batch_mIou\": 100.*iou_batch[iou_batch > 0].mean(),\n",
        "                        \"train/unsupervised_confidence\": lambda_\n",
        "                    }\n",
        "                )\n",
        "\n",
        "                train_step += 1\n",
        "\n",
        "    train_loss = train_loss / seen_sample\n",
        "\n",
        "    train_iou_class = per_class_iou_cuda(train_hist)\n",
        "    train_mIou = train_iou_class[train_iou_class > 0].mean().item()\n",
        "\n",
        "    return train_loss, train_mIou, train_iou_class, train_hist\n"
      ]
    },
    {
      "cell_type": "markdown",
      "metadata": {},
      "source": [
        "### Train step 5"
      ]
    },
    {
      "cell_type": "code",
      "execution_count": 13,
      "metadata": {},
      "outputs": [],
      "source": [
        "def train5(model:BiSeNetWithHRDA, source_loader:DataLoader, target_loader:DataLoader, criterion:nn.Module, optimizer:optim.Optimizer, classmixer:ClassMixer) -> tuple[float, float, torch.Tensor, torch.Tensor]:\n",
        "    global device\n",
        "    global n_classes\n",
        "    global ENABLE_PRINT\n",
        "    global ENABLE_WANDB_LOG\n",
        "    global train_step\n",
        "    global log_per_epoch\n",
        "\n",
        "    model.train()\n",
        "\n",
        "    num_batch = len(source_loader)\n",
        "    chunk_batch = num_batch//log_per_epoch+1\n",
        "\n",
        "    num_sample = len(source_loader.dataset)\n",
        "    seen_sample = 0\n",
        "\n",
        "    train_loss = 0.0\n",
        "    train_hist = torch.zeros((n_classes,n_classes), device=device)\n",
        "    \n",
        "    for batch_idx, ((inputs_src, _, label_source), (inputs_target, _, _)) in enumerate(zip(source_loader, target_loader)):\n",
        "        inputs_src, label_source = randomcrop(inputs_src, label_source)\n",
        "        inputs_target, _ = randomcrop(inputs_target, torch.zeros((1,1,512, 1024), dtype=torch.bool, requires_grad=False))\n",
        "        \n",
        "        B = inputs_src.size(0)*2\n",
        "        seen_sample += B\n",
        "\n",
        "        inputs_src, label_source = inputs_src.detach().to(device), label_source.squeeze().detach().to(device)\n",
        "        inputs_target = inputs_target.detach().to(device)\n",
        "        \n",
        "        with torch.no_grad():\n",
        "            outputs_target = model(inputs_target)[0]\n",
        "\n",
        "        label_target = outputs_target.argmax(1).detach()\n",
        "\n",
        "        classmixer.create_mask(label_source)\n",
        "        inputs_mixed = classmixer.mix_img(inputs_src, inputs_target).detach()\n",
        "        label_mixed = classmixer.mix_label(label_source, label_target).detach()\n",
        "    \n",
        "        inputs_mixed = augmentation(inputs_mixed)\n",
        "\n",
        "        lr_img_src, lr_label_src, hr_img_src, hr_label_src, coords_src = model.hrda_crop(inputs_src, label_source)\n",
        "        outputs_source, (lr_out_src, hr_out_src), (lr_cx1_src, lr_cx2_src), (hr_cx1_src, hr_cx2_src) = model.hrda_forward(lr_img_src, hr_img_src, coords_src)\n",
        "\n",
        "        lr_img_mixed, lr_label_mixed, hr_img_mixed, hr_label_mixed, coords_mixed = model.hrda_crop(inputs_mixed, label_mixed)\n",
        "        outputs_mixed, (lr_out_mixed, hr_out_mixed), (lr_cx1_mixed, lr_cx2_mixed), (hr_cx1_mixed, hr_cx2_mixed) = model.hrda_forward(lr_img_mixed, hr_img_mixed, coords_mixed)\n",
        "\n",
        "        # Loss calculation:\n",
        "        loss_lr_source = 0 # = criterion(lr_out_src, lr_label_src) + criterion(lr_cx1_src, lr_label_src) + criterion(lr_cx2_src, lr_label_src)\n",
        "        loss_hr_source = criterion(outputs_source, hr_label_src) + criterion(hr_cx1_src, hr_label_src) + criterion(hr_cx2_src, hr_label_src)\n",
        "        loss_fused_src = criterion(outputs_source, label_source)\n",
        "\n",
        "        loss_source = (1-a)*loss_fused_src+a*(loss_lr_source+loss_hr_source)\n",
        "\n",
        "        loss_lr_mixed = 0 # = criterion(lr_out_mixed, lr_label_mixed) + criterion(lr_cx1_mixed, lr_label_mixed) + criterion(lr_cx2_mixed, lr_label_mixed)\n",
        "        loss_hr_mixed = criterion(outputs_mixed, hr_label_mixed) + criterion(hr_cx1_mixed, hr_label_mixed) + criterion(hr_cx2_mixed, hr_label_mixed)\n",
        "        loss_fused_mixed = criterion(outputs_mixed, label_mixed)\n",
        "\n",
        "        loss_mixed = (1-a)*loss_fused_mixed+a*(loss_lr_mixed+loss_hr_mixed)\n",
        "\n",
        "        predicted_source = outputs_source.argmax(1)\n",
        "        max_probs, predicted_mixed = torch.softmax(outputs_mixed, 1).max(1)\n",
        "\n",
        "        a, b, c = max_probs.size()\n",
        "        lambda_ = torch.sum(max_probs.ge(0.968)).item() / (a*b*c) \n",
        "        \n",
        "        loss = loss_source + lambda_*loss_mixed\n",
        "\n",
        "        optimizer.zero_grad()\n",
        "        loss.backward()\n",
        "        optimizer.step()\n",
        "\n",
        "        y, y_pred = torch.reshape(torch.cat((label_source, label_mixed)).detach(), (-1,)),\\\n",
        "                    torch.reshape(torch.cat((predicted_source, predicted_mixed)).detach(), (-1,)) \n",
        "\n",
        "        hist_batch = fast_hist_cuda(y, y_pred, n_classes)\n",
        "\n",
        "        train_loss += loss.item() * B\n",
        "        train_hist += hist_batch\n",
        "\n",
        "        if ((batch_idx+1) % chunk_batch) == 0:\n",
        "            iou_batch = per_class_iou_cuda(hist_batch)\n",
        "            if ENABLE_PRINT:\n",
        "                    print(f'Training [{seen_sample}/{num_sample} ({100. * seen_sample / num_sample:.0f}%)]')\n",
        "                    print(f'\\tLoss: {loss.item():.6f}')\n",
        "                    print(f\"\\tmIoU: {100.*iou_batch[iou_batch > 0].mean():.4f}\")\n",
        "\n",
        "            if ENABLE_WANDB_LOG:\n",
        "                wandb.log({\n",
        "                        \"train/step\": train_step,\n",
        "                        \"train/batch_loss\": loss.item(),\n",
        "                        \"train/batch_mIou\": 100.*iou_batch[iou_batch > 0].mean()\n",
        "                    },\n",
        "                    commit=True,\n",
        "                )\n",
        "                train_step += 1\n",
        "\n",
        "    train_loss = train_loss / seen_sample\n",
        "\n",
        "    train_iou_class = per_class_iou_cuda(train_hist)\n",
        "    train_mIou = train_iou_class[train_iou_class > 0].mean().item()\n",
        "\n",
        "    return train_loss, train_mIou, train_iou_class, train_hist\n"
      ]
    },
    {
      "cell_type": "markdown",
      "metadata": {
        "id": "ON-XdXCkNCrn"
      },
      "source": [
        "## Validation loop"
      ]
    },
    {
      "cell_type": "code",
      "execution_count": 14,
      "metadata": {
        "id": "13a6MV00QIot"
      },
      "outputs": [],
      "source": [
        "def validate(model:nn.Module, val_loader:DataLoader, criterion:nn.Module) -> tuple[float, float, torch.Tensor, torch.Tensor]:\n",
        "    global device\n",
        "    global n_classes\n",
        "    global ENABLE_PRINT\n",
        "    global ENABLE_WANDB_LOG\n",
        "    global val_step\n",
        "    global log_per_epoch\n",
        "\n",
        "    model.eval()\n",
        "\n",
        "    num_batch = len(val_loader)\n",
        "    chunk_batch = num_batch//log_per_epoch+1\n",
        "\n",
        "    num_sample = len(val_loader.dataset)\n",
        "    seen_sample = 0\n",
        "    chunk_sample = 0\n",
        "\n",
        "    val_loss = 0.0\n",
        "    chunk_loss = 0.0\n",
        "\n",
        "    with torch.no_grad():\n",
        "        val_hist = torch.zeros((n_classes,n_classes), device=device)\n",
        "        chunk_hist = torch.zeros((n_classes,n_classes), device=device)\n",
        "    \n",
        "        for batch_idx, (inputs, _, targets) in tqdm(enumerate(val_loader), total=num_batch):\n",
        "            inputs, targets = randomcrop(inputs, targets)\n",
        "\n",
        "            B = inputs.size(0)\n",
        "        \n",
        "            inputs, targets = inputs.to(device), targets.squeeze().to(device)\n",
        "\n",
        "            outputs = model(inputs)\n",
        "            loss = criterion(outputs, targets)\n",
        "\n",
        "            predicted = outputs.argmax(1)\n",
        "\n",
        "            hist_batch = fast_hist_cuda(torch.reshape(targets.detach(), (-1,)), torch.reshape(predicted.detach(), (-1,)), n_classes)\n",
        "\n",
        "            chunk_sample += B\n",
        "            chunk_loss += loss.item() * B\n",
        "            chunk_hist += hist_batch\n",
        "\n",
        "            if ((batch_idx+1) % chunk_batch) == 0:\n",
        "                seen_sample += chunk_sample\n",
        "                val_loss += chunk_loss\n",
        "                val_hist += chunk_hist\n",
        "\n",
        "                if ENABLE_PRINT:\n",
        "                    iou_batch = per_class_iou_cuda(hist_batch)\n",
        "                    print(f'Validation [{seen_sample}/{num_sample} ({100. * seen_sample / num_sample:.0f}%)]')\n",
        "                    print(f'\\tLoss: {loss.item():.6f}')\n",
        "                    print(f\"\\tmIoU: {100.*iou_batch[iou_batch > 0].mean():.4f}\")\n",
        "\n",
        "                if ENABLE_WANDB_LOG:\n",
        "                    iou_batch = per_class_iou_cuda(chunk_hist)\n",
        "                    wandb.log({\n",
        "                            \"validate/step\": val_step,\n",
        "                            \"validate/batch_loss\": chunk_loss/chunk_sample,\n",
        "                            \"validate/batch_mIou\": 100.*iou_batch[iou_batch > 0].mean()\n",
        "                        }\n",
        "                    )\n",
        "\n",
        "                    val_step += 1\n",
        "\n",
        "                chunk_sample = 0\n",
        "                chunk_loss = 0.0\n",
        "                chunk_hist *= 0.0\n",
        "\n",
        "        if chunk_sample > 0:\n",
        "            seen_sample += chunk_sample\n",
        "            val_loss += chunk_loss\n",
        "            val_hist += chunk_hist\n",
        "\n",
        "            if ENABLE_PRINT:\n",
        "                iou_batch = per_class_iou_cuda(hist_batch)\n",
        "                print(f'Validation [{seen_sample}/{num_sample} ({100. * seen_sample / num_sample:.0f}%)]')\n",
        "                print(f'\\tLoss: {loss.item():.6f}')\n",
        "                print(f\"\\tmIoU: {100.*iou_batch[iou_batch > 0].mean():.4f}\")\n",
        "\n",
        "            if ENABLE_WANDB_LOG:\n",
        "                iou_batch = per_class_iou_cuda(chunk_hist)\n",
        "                wandb.log({\n",
        "                        \"validate/step\": val_step,\n",
        "                        \"validate/batch_loss\": chunk_loss/chunk_sample,\n",
        "                        \"validate/batch_mIou\": 100.*iou_batch[iou_batch > 0].mean()\n",
        "                    }\n",
        "                )\n",
        "\n",
        "                val_step += 1\n",
        "\n",
        "    val_loss = val_loss / seen_sample\n",
        "\n",
        "    val_iou_class = per_class_iou_cuda(val_hist)\n",
        "    val_mIou = val_iou_class[val_iou_class > 0].mean().item()\n",
        "\n",
        "    return val_loss, val_mIou, val_iou_class, val_hist"
      ]
    },
    {
      "cell_type": "markdown",
      "metadata": {
        "id": "rgPi7OfDNLJX"
      },
      "source": [
        "# Machine learning"
      ]
    },
    {
      "cell_type": "code",
      "execution_count": null,
      "metadata": {
        "colab": {
          "base_uri": "https://localhost:8080/",
          "height": 825
        },
        "id": "AgetZKrsHlEk",
        "outputId": "8c53d02d-3494-46e6-b975-a63d9dce17ac"
      },
      "outputs": [
        {
          "data": {
            "text/html": [
              "Finishing previous runs because reinit is set to 'default'."
            ],
            "text/plain": [
              "<IPython.core.display.HTML object>"
            ]
          },
          "metadata": {},
          "output_type": "display_data"
        },
        {
          "data": {
            "text/html": [],
            "text/plain": [
              "<IPython.core.display.HTML object>"
            ]
          },
          "metadata": {},
          "output_type": "display_data"
        },
        {
          "data": {
            "text/html": [
              "<br>    <style><br>        .wandb-row {<br>            display: flex;<br>            flex-direction: row;<br>            flex-wrap: wrap;<br>            justify-content: flex-start;<br>            width: 100%;<br>        }<br>        .wandb-col {<br>            display: flex;<br>            flex-direction: column;<br>            flex-basis: 100%;<br>            flex: 1;<br>            padding: 10px;<br>        }<br>    </style><br><div class=\"wandb-row\"><div class=\"wandb-col\"><h3>Run summary:</h3><br/><table class=\"wandb\"><tr><td>epoch/100xlearning_rate</td><td>0.00947</td></tr><tr><td>epoch/step</td><td>34</td></tr><tr><td>epoch/train_loss</td><td>1.96591</td></tr><tr><td>epoch/train_mIou</td><td>47.93637</td></tr><tr><td>epoch/val_loss</td><td>2.12005</td></tr><tr><td>epoch/val_mIou</td><td>17.90823</td></tr><tr><td>train/batch_loss</td><td>1.9935</td></tr><tr><td>train/batch_mIou</td><td>54.74343</td></tr><tr><td>train/step</td><td>397</td></tr><tr><td>train/unsupervised_confidence</td><td>0.64984</td></tr><tr><td>validate/batch_loss</td><td>2.07023</td></tr><tr><td>validate/batch_mIou</td><td>22.43501</td></tr><tr><td>validate/step</td><td>595</td></tr></table><br/></div></div>"
            ],
            "text/plain": [
              "<IPython.core.display.HTML object>"
            ]
          },
          "metadata": {},
          "output_type": "display_data"
        },
        {
          "data": {
            "text/html": [
              " View run <strong style=\"color:#cdcd00\">step_4B_DACS_paper_aug_with_no_noise_aug_after_mixing_new</strong> at: <a href='https://wandb.ai/Machine_learning_and_Deep_learning_labs/Semantic%20Segmentation/runs/vjdurlbg' target=\"_blank\">https://wandb.ai/Machine_learning_and_Deep_learning_labs/Semantic%20Segmentation/runs/vjdurlbg</a><br> View project at: <a href='https://wandb.ai/Machine_learning_and_Deep_learning_labs/Semantic%20Segmentation' target=\"_blank\">https://wandb.ai/Machine_learning_and_Deep_learning_labs/Semantic%20Segmentation</a><br>Synced 5 W&B file(s), 0 media file(s), 0 artifact file(s) and 0 other file(s)"
            ],
            "text/plain": [
              "<IPython.core.display.HTML object>"
            ]
          },
          "metadata": {},
          "output_type": "display_data"
        },
        {
          "data": {
            "text/html": [
              "Find logs at: <code>.\\wandb\\run-20250615_212520-vjdurlbg\\logs</code>"
            ],
            "text/plain": [
              "<IPython.core.display.HTML object>"
            ]
          },
          "metadata": {},
          "output_type": "display_data"
        },
        {
          "data": {
            "text/html": [
              "Tracking run with wandb version 0.19.11"
            ],
            "text/plain": [
              "<IPython.core.display.HTML object>"
            ]
          },
          "metadata": {},
          "output_type": "display_data"
        },
        {
          "data": {
            "text/html": [
              "Run data is saved locally in <code>c:\\Users\\Utente\\Jupyter\\wandb\\run-20250615_212531-vjdurlbg</code>"
            ],
            "text/plain": [
              "<IPython.core.display.HTML object>"
            ]
          },
          "metadata": {},
          "output_type": "display_data"
        },
        {
          "data": {
            "text/html": [
              "Resuming run <strong><a href='https://wandb.ai/Machine_learning_and_Deep_learning_labs/Semantic%20Segmentation/runs/vjdurlbg' target=\"_blank\">step_4B_DACS_paper_aug_with_no_noise_aug_after_mixing_new</a></strong> to <a href='https://wandb.ai/Machine_learning_and_Deep_learning_labs/Semantic%20Segmentation' target=\"_blank\">Weights & Biases</a> (<a href='https://wandb.me/developer-guide' target=\"_blank\">docs</a>)<br>"
            ],
            "text/plain": [
              "<IPython.core.display.HTML object>"
            ]
          },
          "metadata": {},
          "output_type": "display_data"
        },
        {
          "data": {
            "text/html": [
              " View project at <a href='https://wandb.ai/Machine_learning_and_Deep_learning_labs/Semantic%20Segmentation' target=\"_blank\">https://wandb.ai/Machine_learning_and_Deep_learning_labs/Semantic%20Segmentation</a>"
            ],
            "text/plain": [
              "<IPython.core.display.HTML object>"
            ]
          },
          "metadata": {},
          "output_type": "display_data"
        },
        {
          "data": {
            "text/html": [
              " View run at <a href='https://wandb.ai/Machine_learning_and_Deep_learning_labs/Semantic%20Segmentation/runs/vjdurlbg' target=\"_blank\">https://wandb.ai/Machine_learning_and_Deep_learning_labs/Semantic%20Segmentation/runs/vjdurlbg</a>"
            ],
            "text/plain": [
              "<IPython.core.display.HTML object>"
            ]
          },
          "metadata": {},
          "output_type": "display_data"
        },
        {
          "name": "stderr",
          "output_type": "stream",
          "text": [
            "wandb: Downloading large artifact step_4B_DACS_paper_aug_with_no_noise_aug_after_mixing_new_BiSeNet-resnet18_Mixed:epoch_33, 94.20MB. 1 files... \n",
            "wandb:   1 of 1 files downloaded.  \n",
            "Done. 0:0:5.6 (16.9MB/s)\n"
          ]
        },
        {
          "name": "stdout",
          "output_type": "stream",
          "text": [
            "-----------------------------\n",
            "Epoch 34\n",
            "[Poly LR] 100xLR: 0.009468\n"
          ]
        },
        {
          "data": {
            "application/vnd.jupyter.widget-view+json": {
              "model_id": "b61caf3c2aea48b097edea0d98c45274",
              "version_major": 2,
              "version_minor": 0
            },
            "text/plain": [
              "  0%|          | 0/393 [00:00<?, ?it/s]"
            ]
          },
          "metadata": {},
          "output_type": "display_data"
        },
        {
          "name": "stdout",
          "output_type": "stream",
          "text": [
            "[Train Loss] : 1.929825 [mIoU]: 48.90%\n"
          ]
        },
        {
          "data": {
            "application/vnd.jupyter.widget-view+json": {
              "model_id": "5acf4d3d550a421b9c9256b221f00a90",
              "version_major": 2,
              "version_minor": 0
            },
            "text/plain": [
              "  0%|          | 0/125 [00:00<?, ?it/s]"
            ]
          },
          "metadata": {},
          "output_type": "display_data"
        },
        {
          "name": "stdout",
          "output_type": "stream",
          "text": [
            "[Validation Loss] : 1.920740 [mIoU]: 19.61%\n",
            "Model saved to ./models\\step_4B_DACS_paper_aug_with_no_noise_aug_after_mixing_new_epoch_34.pth\n",
            "-----------------------------\n",
            "Epoch 35\n",
            "[Poly LR] 100xLR: 0.008966\n"
          ]
        },
        {
          "data": {
            "application/vnd.jupyter.widget-view+json": {
              "model_id": "025362f62c524cc88387f9c13b929b78",
              "version_major": 2,
              "version_minor": 0
            },
            "text/plain": [
              "  0%|          | 0/393 [00:00<?, ?it/s]"
            ]
          },
          "metadata": {},
          "output_type": "display_data"
        },
        {
          "name": "stdout",
          "output_type": "stream",
          "text": [
            "[Train Loss] : 1.938366 [mIoU]: 48.30%\n"
          ]
        },
        {
          "data": {
            "application/vnd.jupyter.widget-view+json": {
              "model_id": "c6389abd80e44b16b4b6cfeb996a777f",
              "version_major": 2,
              "version_minor": 0
            },
            "text/plain": [
              "  0%|          | 0/125 [00:00<?, ?it/s]"
            ]
          },
          "metadata": {},
          "output_type": "display_data"
        },
        {
          "name": "stdout",
          "output_type": "stream",
          "text": [
            "[Validation Loss] : 2.101089 [mIoU]: 16.18%\n",
            "Model saved to ./models\\step_4B_DACS_paper_aug_with_no_noise_aug_after_mixing_new_epoch_35.pth\n",
            "-----------------------------\n",
            "Epoch 36\n",
            "[Poly LR] 100xLR: 0.008460\n"
          ]
        },
        {
          "data": {
            "application/vnd.jupyter.widget-view+json": {
              "model_id": "b0cf68b9f12b47d29859ed1e35b149bd",
              "version_major": 2,
              "version_minor": 0
            },
            "text/plain": [
              "  0%|          | 0/393 [00:00<?, ?it/s]"
            ]
          },
          "metadata": {},
          "output_type": "display_data"
        },
        {
          "name": "stdout",
          "output_type": "stream",
          "text": [
            "[Train Loss] : 1.943439 [mIoU]: 45.95%\n"
          ]
        },
        {
          "data": {
            "application/vnd.jupyter.widget-view+json": {
              "model_id": "a14703528bf74d9f8691ef79dd863bb7",
              "version_major": 2,
              "version_minor": 0
            },
            "text/plain": [
              "  0%|          | 0/125 [00:00<?, ?it/s]"
            ]
          },
          "metadata": {},
          "output_type": "display_data"
        },
        {
          "name": "stdout",
          "output_type": "stream",
          "text": [
            "[Validation Loss] : 1.913792 [mIoU]: 18.55%\n",
            "Model saved to ./models\\step_4B_DACS_paper_aug_with_no_noise_aug_after_mixing_new_epoch_36.pth\n",
            "-----------------------------\n",
            "Epoch 37\n",
            "[Poly LR] 100xLR: 0.007950\n"
          ]
        },
        {
          "data": {
            "application/vnd.jupyter.widget-view+json": {
              "model_id": "35425e6e1f0f4134a8a07d8feb525b7e",
              "version_major": 2,
              "version_minor": 0
            },
            "text/plain": [
              "  0%|          | 0/393 [00:00<?, ?it/s]"
            ]
          },
          "metadata": {},
          "output_type": "display_data"
        },
        {
          "name": "stdout",
          "output_type": "stream",
          "text": [
            "[Train Loss] : 1.950634 [mIoU]: 48.53%\n"
          ]
        },
        {
          "data": {
            "application/vnd.jupyter.widget-view+json": {
              "model_id": "9585d537128d478a83b8436d8bd4569e",
              "version_major": 2,
              "version_minor": 0
            },
            "text/plain": [
              "  0%|          | 0/125 [00:00<?, ?it/s]"
            ]
          },
          "metadata": {},
          "output_type": "display_data"
        },
        {
          "name": "stdout",
          "output_type": "stream",
          "text": [
            "[Validation Loss] : 2.213236 [mIoU]: 18.23%\n",
            "Model saved to ./models\\step_4B_DACS_paper_aug_with_no_noise_aug_after_mixing_new_epoch_37.pth\n",
            "-----------------------------\n",
            "Epoch 38\n",
            "[Poly LR] 100xLR: 0.007437\n"
          ]
        },
        {
          "data": {
            "application/vnd.jupyter.widget-view+json": {
              "model_id": "b80d8f33575e4f7b8ea684dc19d51841",
              "version_major": 2,
              "version_minor": 0
            },
            "text/plain": [
              "  0%|          | 0/393 [00:00<?, ?it/s]"
            ]
          },
          "metadata": {},
          "output_type": "display_data"
        },
        {
          "name": "stdout",
          "output_type": "stream",
          "text": [
            "[Train Loss] : 1.927135 [mIoU]: 46.60%\n"
          ]
        },
        {
          "data": {
            "application/vnd.jupyter.widget-view+json": {
              "model_id": "ee362a7083f540ca9d63a5fb96a984d1",
              "version_major": 2,
              "version_minor": 0
            },
            "text/plain": [
              "  0%|          | 0/125 [00:00<?, ?it/s]"
            ]
          },
          "metadata": {},
          "output_type": "display_data"
        },
        {
          "name": "stdout",
          "output_type": "stream",
          "text": [
            "[Validation Loss] : 2.270871 [mIoU]: 15.43%\n",
            "Model saved to ./models\\step_4B_DACS_paper_aug_with_no_noise_aug_after_mixing_new_epoch_38.pth\n",
            "-----------------------------\n",
            "Epoch 39\n",
            "[Poly LR] 100xLR: 0.006920\n"
          ]
        },
        {
          "data": {
            "application/vnd.jupyter.widget-view+json": {
              "model_id": "ce1349920dc8403496fce266233fc4f0",
              "version_major": 2,
              "version_minor": 0
            },
            "text/plain": [
              "  0%|          | 0/393 [00:00<?, ?it/s]"
            ]
          },
          "metadata": {},
          "output_type": "display_data"
        },
        {
          "name": "stdout",
          "output_type": "stream",
          "text": [
            "[Train Loss] : 1.905840 [mIoU]: 46.49%\n"
          ]
        },
        {
          "data": {
            "application/vnd.jupyter.widget-view+json": {
              "model_id": "619f278e1cdf4b989c45d7c92e3a8189",
              "version_major": 2,
              "version_minor": 0
            },
            "text/plain": [
              "  0%|          | 0/125 [00:00<?, ?it/s]"
            ]
          },
          "metadata": {},
          "output_type": "display_data"
        },
        {
          "name": "stdout",
          "output_type": "stream",
          "text": [
            "[Validation Loss] : 2.288537 [mIoU]: 16.91%\n",
            "Model saved to ./models\\step_4B_DACS_paper_aug_with_no_noise_aug_after_mixing_new_epoch_39.pth\n",
            "-----------------------------\n",
            "Epoch 40\n",
            "[Poly LR] 100xLR: 0.006399\n"
          ]
        },
        {
          "data": {
            "application/vnd.jupyter.widget-view+json": {
              "model_id": "d71cce682b5c433c8f922802bce788cd",
              "version_major": 2,
              "version_minor": 0
            },
            "text/plain": [
              "  0%|          | 0/393 [00:00<?, ?it/s]"
            ]
          },
          "metadata": {},
          "output_type": "display_data"
        },
        {
          "name": "stdout",
          "output_type": "stream",
          "text": [
            "[Train Loss] : 1.929551 [mIoU]: 48.55%\n"
          ]
        },
        {
          "data": {
            "application/vnd.jupyter.widget-view+json": {
              "model_id": "6d206def0ab84710ab3d6a437e7ef07e",
              "version_major": 2,
              "version_minor": 0
            },
            "text/plain": [
              "  0%|          | 0/125 [00:00<?, ?it/s]"
            ]
          },
          "metadata": {},
          "output_type": "display_data"
        },
        {
          "name": "stdout",
          "output_type": "stream",
          "text": [
            "[Validation Loss] : 2.267483 [mIoU]: 16.67%\n",
            "Model saved to ./models\\step_4B_DACS_paper_aug_with_no_noise_aug_after_mixing_new_epoch_40.pth\n",
            "-----------------------------\n",
            "Epoch 41\n",
            "[Poly LR] 100xLR: 0.005873\n"
          ]
        },
        {
          "data": {
            "application/vnd.jupyter.widget-view+json": {
              "model_id": "18cf1d0e78634baf8140f61b4a6db68d",
              "version_major": 2,
              "version_minor": 0
            },
            "text/plain": [
              "  0%|          | 0/393 [00:00<?, ?it/s]"
            ]
          },
          "metadata": {},
          "output_type": "display_data"
        },
        {
          "name": "stdout",
          "output_type": "stream",
          "text": [
            "[Train Loss] : 1.890992 [mIoU]: 46.26%\n"
          ]
        },
        {
          "data": {
            "application/vnd.jupyter.widget-view+json": {
              "model_id": "d22e0be2a5714cfd97070a4ff9f74d2c",
              "version_major": 2,
              "version_minor": 0
            },
            "text/plain": [
              "  0%|          | 0/125 [00:00<?, ?it/s]"
            ]
          },
          "metadata": {},
          "output_type": "display_data"
        },
        {
          "name": "stdout",
          "output_type": "stream",
          "text": [
            "[Validation Loss] : 1.972424 [mIoU]: 19.51%\n",
            "Model saved to ./models\\step_4B_DACS_paper_aug_with_no_noise_aug_after_mixing_new_epoch_41.pth\n",
            "-----------------------------\n",
            "Epoch 42\n",
            "[Poly LR] 100xLR: 0.005342\n"
          ]
        },
        {
          "data": {
            "application/vnd.jupyter.widget-view+json": {
              "model_id": "71331712f79947a290fca7882101a559",
              "version_major": 2,
              "version_minor": 0
            },
            "text/plain": [
              "  0%|          | 0/393 [00:00<?, ?it/s]"
            ]
          },
          "metadata": {},
          "output_type": "display_data"
        },
        {
          "name": "stdout",
          "output_type": "stream",
          "text": [
            "[Train Loss] : 1.898904 [mIoU]: 46.69%\n"
          ]
        },
        {
          "data": {
            "application/vnd.jupyter.widget-view+json": {
              "model_id": "1a14dba75e37451594633769a6caede8",
              "version_major": 2,
              "version_minor": 0
            },
            "text/plain": [
              "  0%|          | 0/125 [00:00<?, ?it/s]"
            ]
          },
          "metadata": {},
          "output_type": "display_data"
        },
        {
          "name": "stdout",
          "output_type": "stream",
          "text": [
            "[Validation Loss] : 2.032348 [mIoU]: 20.09%\n",
            "Model saved to ./models\\step_4B_DACS_paper_aug_with_no_noise_aug_after_mixing_new_epoch_42.pth\n",
            "-----------------------------\n",
            "Epoch 43\n",
            "[Poly LR] 100xLR: 0.004804\n"
          ]
        },
        {
          "data": {
            "application/vnd.jupyter.widget-view+json": {
              "model_id": "5dddff4294704fc9ae3b300411eb6ee1",
              "version_major": 2,
              "version_minor": 0
            },
            "text/plain": [
              "  0%|          | 0/393 [00:00<?, ?it/s]"
            ]
          },
          "metadata": {},
          "output_type": "display_data"
        },
        {
          "name": "stdout",
          "output_type": "stream",
          "text": [
            "[Train Loss] : 1.911678 [mIoU]: 49.42%\n"
          ]
        },
        {
          "data": {
            "application/vnd.jupyter.widget-view+json": {
              "model_id": "0359f0eb414b44f5ad455975ca4e1e3f",
              "version_major": 2,
              "version_minor": 0
            },
            "text/plain": [
              "  0%|          | 0/125 [00:00<?, ?it/s]"
            ]
          },
          "metadata": {},
          "output_type": "display_data"
        },
        {
          "name": "stdout",
          "output_type": "stream",
          "text": [
            "[Validation Loss] : 2.384953 [mIoU]: 17.78%\n",
            "Model saved to ./models\\step_4B_DACS_paper_aug_with_no_noise_aug_after_mixing_new_epoch_43.pth\n",
            "-----------------------------\n",
            "Epoch 44\n",
            "[Poly LR] 100xLR: 0.004260\n"
          ]
        },
        {
          "data": {
            "application/vnd.jupyter.widget-view+json": {
              "model_id": "cd94275dc9f14eb0acb20295c9e327d9",
              "version_major": 2,
              "version_minor": 0
            },
            "text/plain": [
              "  0%|          | 0/393 [00:00<?, ?it/s]"
            ]
          },
          "metadata": {},
          "output_type": "display_data"
        },
        {
          "name": "stdout",
          "output_type": "stream",
          "text": [
            "[Train Loss] : 1.907608 [mIoU]: 49.37%\n"
          ]
        },
        {
          "data": {
            "application/vnd.jupyter.widget-view+json": {
              "model_id": "363190a314a547ec8c0f890583ad622b",
              "version_major": 2,
              "version_minor": 0
            },
            "text/plain": [
              "  0%|          | 0/125 [00:00<?, ?it/s]"
            ]
          },
          "metadata": {},
          "output_type": "display_data"
        },
        {
          "name": "stdout",
          "output_type": "stream",
          "text": [
            "[Validation Loss] : 1.940863 [mIoU]: 20.56%\n",
            "Model saved to ./models\\step_4B_DACS_paper_aug_with_no_noise_aug_after_mixing_new_epoch_44.pth\n",
            "-----------------------------\n",
            "Epoch 45\n",
            "[Poly LR] 100xLR: 0.003709\n"
          ]
        },
        {
          "data": {
            "application/vnd.jupyter.widget-view+json": {
              "model_id": "1c2c86fa400d4cfcb77399fecda44acb",
              "version_major": 2,
              "version_minor": 0
            },
            "text/plain": [
              "  0%|          | 0/393 [00:00<?, ?it/s]"
            ]
          },
          "metadata": {},
          "output_type": "display_data"
        },
        {
          "name": "stdout",
          "output_type": "stream",
          "text": [
            "[Train Loss] : 1.903368 [mIoU]: 50.17%\n"
          ]
        },
        {
          "data": {
            "application/vnd.jupyter.widget-view+json": {
              "model_id": "329f78c2ee054b3b9161295aa9879ad3",
              "version_major": 2,
              "version_minor": 0
            },
            "text/plain": [
              "  0%|          | 0/125 [00:00<?, ?it/s]"
            ]
          },
          "metadata": {},
          "output_type": "display_data"
        },
        {
          "name": "stdout",
          "output_type": "stream",
          "text": [
            "[Validation Loss] : 2.426551 [mIoU]: 18.22%\n",
            "Model saved to ./models\\step_4B_DACS_paper_aug_with_no_noise_aug_after_mixing_new_epoch_45.pth\n",
            "-----------------------------\n",
            "Epoch 46\n",
            "[Poly LR] 100xLR: 0.003147\n"
          ]
        },
        {
          "data": {
            "application/vnd.jupyter.widget-view+json": {
              "model_id": "0098c72eadb544a7b2973cdc5fc007f4",
              "version_major": 2,
              "version_minor": 0
            },
            "text/plain": [
              "  0%|          | 0/393 [00:00<?, ?it/s]"
            ]
          },
          "metadata": {},
          "output_type": "display_data"
        },
        {
          "name": "stdout",
          "output_type": "stream",
          "text": [
            "[Train Loss] : 1.889261 [mIoU]: 49.54%\n"
          ]
        },
        {
          "data": {
            "application/vnd.jupyter.widget-view+json": {
              "model_id": "30049e0077d24927a8050c3cf364fe58",
              "version_major": 2,
              "version_minor": 0
            },
            "text/plain": [
              "  0%|          | 0/125 [00:00<?, ?it/s]"
            ]
          },
          "metadata": {},
          "output_type": "display_data"
        },
        {
          "name": "stdout",
          "output_type": "stream",
          "text": [
            "[Validation Loss] : 2.393324 [mIoU]: 17.08%\n",
            "Model saved to ./models\\step_4B_DACS_paper_aug_with_no_noise_aug_after_mixing_new_epoch_46.pth\n",
            "-----------------------------\n",
            "Epoch 47\n",
            "[Poly LR] 100xLR: 0.002575\n"
          ]
        },
        {
          "data": {
            "application/vnd.jupyter.widget-view+json": {
              "model_id": "9995b21009704a7691c405cbad5258c0",
              "version_major": 2,
              "version_minor": 0
            },
            "text/plain": [
              "  0%|          | 0/393 [00:00<?, ?it/s]"
            ]
          },
          "metadata": {},
          "output_type": "display_data"
        },
        {
          "name": "stdout",
          "output_type": "stream",
          "text": [
            "[Train Loss] : 1.884017 [mIoU]: 46.83%\n"
          ]
        },
        {
          "data": {
            "application/vnd.jupyter.widget-view+json": {
              "model_id": "6592c322aa8d486ea9eab7dd76b34c6d",
              "version_major": 2,
              "version_minor": 0
            },
            "text/plain": [
              "  0%|          | 0/125 [00:00<?, ?it/s]"
            ]
          },
          "metadata": {},
          "output_type": "display_data"
        },
        {
          "name": "stdout",
          "output_type": "stream",
          "text": [
            "[Validation Loss] : 1.986808 [mIoU]: 18.66%\n",
            "Model saved to ./models\\step_4B_DACS_paper_aug_with_no_noise_aug_after_mixing_new_epoch_47.pth\n",
            "-----------------------------\n",
            "Epoch 48\n",
            "[Poly LR] 100xLR: 0.001987\n"
          ]
        },
        {
          "data": {
            "application/vnd.jupyter.widget-view+json": {
              "model_id": "7a40a11d8bdb4480bc2922a1948ac45d",
              "version_major": 2,
              "version_minor": 0
            },
            "text/plain": [
              "  0%|          | 0/393 [00:00<?, ?it/s]"
            ]
          },
          "metadata": {},
          "output_type": "display_data"
        },
        {
          "name": "stdout",
          "output_type": "stream",
          "text": [
            "[Train Loss] : 1.893305 [mIoU]: 46.80%\n"
          ]
        },
        {
          "data": {
            "application/vnd.jupyter.widget-view+json": {
              "model_id": "81f788ff395742fca0ec45efc1d17228",
              "version_major": 2,
              "version_minor": 0
            },
            "text/plain": [
              "  0%|          | 0/125 [00:00<?, ?it/s]"
            ]
          },
          "metadata": {},
          "output_type": "display_data"
        },
        {
          "name": "stdout",
          "output_type": "stream",
          "text": [
            "[Validation Loss] : 2.300346 [mIoU]: 18.18%\n",
            "Model saved to ./models\\step_4B_DACS_paper_aug_with_no_noise_aug_after_mixing_new_epoch_48.pth\n",
            "-----------------------------\n",
            "Epoch 49\n",
            "[Poly LR] 100xLR: 0.001380\n"
          ]
        },
        {
          "data": {
            "application/vnd.jupyter.widget-view+json": {
              "model_id": "b245ae26f4ed451e876e2cd6aa38440b",
              "version_major": 2,
              "version_minor": 0
            },
            "text/plain": [
              "  0%|          | 0/393 [00:00<?, ?it/s]"
            ]
          },
          "metadata": {},
          "output_type": "display_data"
        },
        {
          "name": "stdout",
          "output_type": "stream",
          "text": [
            "[Train Loss] : 1.898537 [mIoU]: 50.12%\n"
          ]
        },
        {
          "data": {
            "application/vnd.jupyter.widget-view+json": {
              "model_id": "c81107713694495e9f04f2538bbb5078",
              "version_major": 2,
              "version_minor": 0
            },
            "text/plain": [
              "  0%|          | 0/125 [00:00<?, ?it/s]"
            ]
          },
          "metadata": {},
          "output_type": "display_data"
        },
        {
          "name": "stdout",
          "output_type": "stream",
          "text": [
            "[Validation Loss] : 2.245856 [mIoU]: 18.67%\n",
            "Model saved to ./models\\step_4B_DACS_paper_aug_with_no_noise_aug_after_mixing_new_epoch_49.pth\n",
            "-----------------------------\n",
            "Epoch 50\n",
            "[Poly LR] 100xLR: 0.000739\n"
          ]
        },
        {
          "data": {
            "application/vnd.jupyter.widget-view+json": {
              "model_id": "8f2e4a7b13a84104b25e35a4ae524974",
              "version_major": 2,
              "version_minor": 0
            },
            "text/plain": [
              "  0%|          | 0/393 [00:00<?, ?it/s]"
            ]
          },
          "metadata": {},
          "output_type": "display_data"
        },
        {
          "name": "stdout",
          "output_type": "stream",
          "text": [
            "[Train Loss] : 1.890572 [mIoU]: 47.14%\n"
          ]
        },
        {
          "data": {
            "application/vnd.jupyter.widget-view+json": {
              "model_id": "25352b43446a4144864dfedfeee5cb62",
              "version_major": 2,
              "version_minor": 0
            },
            "text/plain": [
              "  0%|          | 0/125 [00:00<?, ?it/s]"
            ]
          },
          "metadata": {},
          "output_type": "display_data"
        },
        {
          "name": "stdout",
          "output_type": "stream",
          "text": [
            "[Validation Loss] : 1.793227 [mIoU]: 20.11%\n",
            "Model saved to ./models\\step_4B_DACS_paper_aug_with_no_noise_aug_after_mixing_new_epoch_50.pth\n"
          ]
        },
        {
          "data": {
            "application/vnd.jupyter.widget-view+json": {
              "model_id": "12d8addae6f64afe84e70c8f1c200d4c",
              "version_major": 2,
              "version_minor": 0
            },
            "text/plain": [
              "  0%|          | 0/1000 [00:00<?, ?it/s]"
            ]
          },
          "metadata": {},
          "output_type": "display_data"
        },
        {
          "name": "stderr",
          "output_type": "stream",
          "text": [
            "Unsupported operator aten::max_pool2d encountered 1 time(s)\n",
            "Unsupported operator aten::add_ encountered 8 time(s)\n",
            "Unsupported operator aten::mean encountered 2 time(s)\n",
            "Unsupported operator aten::sigmoid encountered 3 time(s)\n",
            "Unsupported operator aten::mul encountered 4 time(s)\n",
            "Unsupported operator aten::add encountered 1 time(s)\n",
            "The following submodules of the model were never called during the trace of the graph. They may be unused, or they were accessed by direct calls to .forward() or via other python methods. In the latter case they will have zeros for statistics, though their statistics will still contribute to their parent calling module.\n",
            "context_path.features.avgpool, context_path.features.fc, supervision1, supervision2\n"
          ]
        },
        {
          "data": {
            "text/html": [],
            "text/plain": [
              "<IPython.core.display.HTML object>"
            ]
          },
          "metadata": {},
          "output_type": "display_data"
        },
        {
          "data": {
            "text/html": [
              "<br>    <style><br>        .wandb-row {<br>            display: flex;<br>            flex-direction: row;<br>            flex-wrap: wrap;<br>            justify-content: flex-start;<br>            width: 100%;<br>        }<br>        .wandb-col {<br>            display: flex;<br>            flex-direction: column;<br>            flex-basis: 100%;<br>            flex: 1;<br>            padding: 10px;<br>        }<br>    </style><br><div class=\"wandb-row\"><div class=\"wandb-col\"><h3>Run history:</h3><br/><table class=\"wandb\"><tr><td>epoch/100xlearning_rate</td><td>██▇▇▆▆▆▅▅▄▄▃▃▂▂▂▁</td></tr><tr><td>epoch/step</td><td>▁▁▁▂▂▂▂▂▃▃▃▃▄▄▄▄▄▄▄▄▅▅▅▅▅▆▆▆▆▇▇▇▇▇██████</td></tr><tr><td>epoch/train_loss</td><td>▆▇▇█▆▃▆▂▃▄▃▃▂▁▂▃▂</td></tr><tr><td>epoch/train_mIou</td><td>▆▅▁▅▂▂▅▂▂▇▇█▇▂▂█▃</td></tr><tr><td>epoch/val_loss</td><td>▂▄▂▆▆▆▆▃▄█▃██▃▇▆▁</td></tr><tr><td>epoch/val_mIou</td><td>▇▂▅▅▁▃▃▇▇▄█▅▃▅▅▅▇</td></tr><tr><td>model/flops</td><td>▁</td></tr><tr><td>model/latency_mean</td><td>▁</td></tr><tr><td>model/latency_std</td><td>▁</td></tr><tr><td>model/mean_fps</td><td>▁</td></tr><tr><td>model/param</td><td>▁</td></tr><tr><td>train/batch_loss</td><td>▅▅▄▄▄▄▇▆▆▄▅▆▄▁█▄▄▆▃█▅▆▁▇▄▅█▃▃▂▄▅▄▂▂▇▅▄█▄</td></tr><tr><td>train/batch_mIou</td><td>▇▂▅▂▃▆▄▃▂▃▇▇▃▃▅▄▂▄▄▅▁▃▄▆█▆▃▄▆▃▂▁▆▃▃▃▆▅▂▃</td></tr><tr><td>train/step</td><td>▁▁▁▁▁▂▂▂▂▂▃▃▃▃▃▄▄▄▄▄▄▄▄▄▅▅▅▅▅▆▆▆▇▇▇█████</td></tr><tr><td>train/unsupervised_confidence</td><td>▂▇▄▇▅▁▃▇▃▂▅▂▆▄▅▄▆▆▂▄▃█▂█▃▄▅▁▄▇▆▆▅▅▄▆▄▃▄▅</td></tr><tr><td>validate/batch_loss</td><td>▄▄▄▄▂▄▅▅▅▆▆▆▅▅▅▅█▅▁▃▃▆▅▇▅▂▃▆▆▅▄▄▃▅▆▆▆▆▄▂</td></tr><tr><td>validate/batch_mIou</td><td>█▂▃▃▁▅▃▄▆▄▃▁▃▂▃▁▂▂▅▅▃▂▃▃▅▃▃▂▁▂▆▄▇▄▄▃▃▂▂▄</td></tr><tr><td>validate/step</td><td>▁▁▁▁▁▁▂▂▂▂▂▂▃▃▃▃▄▄▄▄▄▅▅▅▅▅▅▆▆▆▆▆▇▇▇▇▇▇██</td></tr></table><br/></div><div class=\"wandb-col\"><h3>Run summary:</h3><br/><table class=\"wandb\"><tr><td>epoch/100xlearning_rate</td><td>0.00074</td></tr><tr><td>epoch/step</td><td>50</td></tr><tr><td>epoch/train_loss</td><td>1.89057</td></tr><tr><td>epoch/train_mIou</td><td>47.13511</td></tr><tr><td>epoch/val_loss</td><td>1.79323</td></tr><tr><td>epoch/val_mIou</td><td>20.11396</td></tr><tr><td>model/flops</td><td>25.77978</td></tr><tr><td>model/latency_mean</td><td>11.8094</td></tr><tr><td>model/latency_std</td><td>6.52215</td></tr><tr><td>model/mean_fps</td><td>126.57445</td></tr><tr><td>model/param</td><td>12.58167</td></tr><tr><td>train/batch_loss</td><td>2.00027</td></tr><tr><td>train/batch_mIou</td><td>58.96431</td></tr><tr><td>train/step</td><td>602</td></tr><tr><td>train/unsupervised_confidence</td><td>0.59115</td></tr><tr><td>validate/batch_loss</td><td>1.67204</td></tr><tr><td>validate/batch_mIou</td><td>23.60333</td></tr><tr><td>validate/step</td><td>902</td></tr></table><br/></div></div>"
            ],
            "text/plain": [
              "<IPython.core.display.HTML object>"
            ]
          },
          "metadata": {},
          "output_type": "display_data"
        },
        {
          "data": {
            "text/html": [
              " View run <strong style=\"color:#cdcd00\">step_4B_DACS_paper_aug_with_no_noise_aug_after_mixing_new</strong> at: <a href='https://wandb.ai/Machine_learning_and_Deep_learning_labs/Semantic%20Segmentation/runs/vjdurlbg' target=\"_blank\">https://wandb.ai/Machine_learning_and_Deep_learning_labs/Semantic%20Segmentation/runs/vjdurlbg</a><br> View project at: <a href='https://wandb.ai/Machine_learning_and_Deep_learning_labs/Semantic%20Segmentation' target=\"_blank\">https://wandb.ai/Machine_learning_and_Deep_learning_labs/Semantic%20Segmentation</a><br>Synced 5 W&B file(s), 8 media file(s), 34 artifact file(s) and 0 other file(s)"
            ],
            "text/plain": [
              "<IPython.core.display.HTML object>"
            ]
          },
          "metadata": {},
          "output_type": "display_data"
        },
        {
          "data": {
            "text/html": [
              "Find logs at: <code>.\\wandb\\run-20250615_212531-vjdurlbg\\logs</code>"
            ],
            "text/plain": [
              "<IPython.core.display.HTML object>"
            ]
          },
          "metadata": {},
          "output_type": "display_data"
        }
      ],
      "source": [
        "def pipeline():\n",
        "    global device\n",
        "    global n_classes\n",
        "    global ENABLE_PRINT\n",
        "    global ENABLE_WANDB_LOG\n",
        "    global train_step\n",
        "    global val_step\n",
        "    global log_per_epoch\n",
        "\n",
        "    ENABLE_PRINT = False\n",
        "    ENABLE_WANDB_LOG = True\n",
        "    train_step = 0\n",
        "    val_step = 0\n",
        "    log_per_epoch = 20\n",
        "\n",
        "    models_root_dir = \"./models\"\n",
        "    # !rm -r {models_root_dir}\n",
        "    # !rd /s /q {models_root_dir}\n",
        "    # !mkdir {models_root_dir}\n",
        "\n",
        "    B = 4\n",
        "    n_classes = 19\n",
        "\n",
        "    backbone = \"BiSeNet\"\n",
        "    context_path = \"resnet18\"\n",
        "    dataset = \"Mixed\"\n",
        "\n",
        "    start_epoch = 0 # <--------- Last epoch that i completed (in this script i will perform from the start+1 to end)\n",
        "    end_epoch = 50\n",
        "    max_epoch = 50\n",
        "\n",
        "    assert start_epoch < end_epoch <= max_epoch, \"Check your start/end/max epoch settings.\"\n",
        "\n",
        "    init_lr=2.5e-4\n",
        "    lr_decay_iter = 1\n",
        "    momentum=0.9\n",
        "    weight_decay=5e-4\n",
        "\n",
        "    # Dataset objects\n",
        "    if dataset == \"Cityscapes\":\n",
        "        data_train = CityScapes(\"./Cityscapes/Cityspaces\", split=\"train\", transform=img_transform_target, target_transform=label_transform_target)\n",
        "        data_val = CityScapes(\"./Cityscapes/Cityspaces\", split=\"val\", transform=img_transform_target, target_transform=label_transform_target)\n",
        "\n",
        "        train_loader = DataLoader(data_train, batch_size=B, shuffle=True)\n",
        "        val_loader = DataLoader(data_val, batch_size=B, shuffle=True)\n",
        "    elif dataset == \"GTA5\":\n",
        "        data_train, data_val = GTA5_dataset_splitter(\"./Gta5_extended\", train_split_percent=0.8, split_seed=42, transform=img_transform_source, target_transform=label_transform_source)\n",
        "        \n",
        "        train_loader = DataLoader(data_train, batch_size=B, shuffle=True)\n",
        "        val_loader = DataLoader(data_val, batch_size=B, shuffle=True)\n",
        "\n",
        "    elif dataset == \"Augmentation\":\n",
        "        data_train, _ = GTA5_dataset_splitter(\"./Gta5_extended\", train_split_percent=1, split_seed=42, augment=True, transform=img_transform_source, target_transform=label_transform_source)\n",
        "        data_val = CityScapes(\"./Cityscapes/Cityspaces\", split=\"val\", transform=img_transform_target, target_transform=label_transform_target)\n",
        "\n",
        "        train_loader = DataLoader(data_train, batch_size=B, shuffle=True)\n",
        "        val_loader = DataLoader(data_val, batch_size=B, shuffle=True)\n",
        "    elif dataset == \"Mixed\":\n",
        "        city_val = CityScapes(\"./Cityscapes/Cityspaces\", split=\"val\", transform=img_transform_target, target_transform=label_transform_target)\n",
        "        city_train = CityScapes(\"./Cityscapes/Cityspaces\", split=\"train\", transform=img_transform_target, target_transform=label_transform_target)\n",
        "        gta_train, _ = GTA5_dataset_splitter(\"./Gta5_extended\", 1.0, split_seed=42, augment=False, transform=img_transform_source, target_transform=label_transform_source)\n",
        "\n",
        "        source_loader = DataLoader(gta_train, batch_size=B, shuffle=True)\n",
        "        target_loader = DataLoader(city_train, batch_size=B, shuffle=True)\n",
        "        val_loader = DataLoader(city_val, batch_size=B, shuffle=True)\n",
        "    else:\n",
        "        raise Exception(\"Wrong dataset name\")\n",
        "\n",
        "\n",
        "    # Architecture\n",
        "    if backbone == \"BiSeNet\":\n",
        "        model = BiSeNet(n_classes, context_path).to(device)\n",
        "        architecture = backbone+\"-\"+context_path\n",
        "    elif backbone == \"DeepLab\":\n",
        "        model = get_deeplab_v2(num_classes=n_classes, pretrain=True).to(device)\n",
        "        architecture = backbone\n",
        "    else:\n",
        "        raise Exception(\"Wrong model name\")\n",
        "\n",
        "    classmixer = ClassMixer(n_classes, 0.5, device=device)\n",
        "    criterion = nn.CrossEntropyLoss(ignore_index=255)\n",
        "    optimizer = optim.SGD(model.parameters(), lr=init_lr, momentum=momentum, weight_decay=weight_decay, nesterov=True)\n",
        "\n",
        "    # Wandb setup and metrics\n",
        "    run_name = f\"step_4B_DACS_none\"\n",
        "    run_detail = f\"{run_name}_{architecture}_{dataset}\"\n",
        "    # run_id = \"dp6aprx6\" # full_augmentation\n",
        "    # run_id = \"svmlgyfk\" # no_augmentation\n",
        "    # run_id = \"p4vrdq1x\" # no_noise\n",
        "    # run_id = \"xk96rcjr\" # paper_augmentation\n",
        "    # run_id = \"roauzcno\" # no_noise_aug_after_mixing\n",
        "    # run_id = \"fet2uvxi\" # paper_aug_with_no_noise_aug_after_mixing\n",
        "    # run_id = \"vjdurlbg\" # paper_aug_with_no_noise_aug_after_mixing_new\n",
        "    run_id = None\n",
        "    \n",
        "    run = wandb.init(\n",
        "        entity=\"Machine_learning_and_Deep_learning_labs\",\n",
        "        project=\"Semantic Segmentation\",\n",
        "        name=run_name,\n",
        "        id=run_id, # <--------------- If run already created (start_epoch > 0) decomment\n",
        "        resume=\"allow\", # <----------------  IMPORTANT CONFIG KEY\n",
        "        config={\n",
        "            \"initial_learning_rate\": init_lr,\n",
        "            \"lr_decay_iter\": lr_decay_iter,\n",
        "            \"momentum\": momentum,\n",
        "            \"weight_decay\": weight_decay,\n",
        "            \"architecture\": architecture,\n",
        "            \"dataset\": dataset,\n",
        "            \"start_epoch\": start_epoch,\n",
        "            \"end_epoch\": end_epoch,\n",
        "            \"max_epoch\": max_epoch,\n",
        "            \"batch\": B,\n",
        "            \"lr_scheduler\": \"poly\"\n",
        "        },\n",
        "    )\n",
        "    if run_id is None:\n",
        "        print(f\"\\nThe ID for this run is: {run.id} save this if first time creating the run, then use it in run creation: wandb.init(..., id = {run.id}, ...)\\n\")\n",
        "\n",
        "    wandb.define_metric(\"epoch/step\")\n",
        "    wandb.define_metric(\"epoch/*\", step_metric=\"epoch/step\")\n",
        "\n",
        "    wandb.define_metric(\"train/step\")\n",
        "    wandb.define_metric(\"train/*\", step_metric=\"train/step\")\n",
        "\n",
        "    wandb.define_metric(\"validate/step\")\n",
        "    wandb.define_metric(\"validate/*\", step_metric=\"validate/step\")\n",
        "\n",
        "    # Loading from a starting point\n",
        "    if start_epoch > 0:\n",
        "        artifact = run.use_artifact(f'Machine_learning_and_Deep_learning_labs/Semantic Segmentation/{run_detail}:epoch_{start_epoch}', type='model')\n",
        "        artifact_dir = artifact.download()\n",
        "\n",
        "        artifact_path = os.path.join(artifact_dir, f\"{run_name}_epoch_{start_epoch}.pth\")\n",
        "        # artifact_path = os.path.join(models_root_dir, f\"{run_name}_epoch_{start_epoch}.pth\")\n",
        "\n",
        "        checkpoint = torch.load(artifact_path, map_location=device)\n",
        "\n",
        "        model.load_state_dict(checkpoint[\"model_state_dict\"])\n",
        "        optimizer.load_state_dict(checkpoint[\"optimizer_state_dict\"])\n",
        "\n",
        "        train_step = checkpoint[\"train_step\"]+1\n",
        "        val_step = checkpoint[\"validate_step\"]+1\n",
        "\n",
        "    # Main Loop\n",
        "    for epoch in range(start_epoch+1, end_epoch+1):\n",
        "        print(\"-----------------------------\")\n",
        "        print(f\"Epoch {epoch}\")\n",
        "\n",
        "        lr = poly_lr_scheduler(optimizer, init_lr, epoch-1, max_iter=max_epoch)\n",
        "\n",
        "        print(f\"[Poly LR] 100xLR: {100.*lr:.6f}\")\n",
        "\n",
        "        run.log({\n",
        "            \"epoch/step\": epoch,\n",
        "            \"epoch/100xlearning_rate\": 100.*lr,\n",
        "        })\n",
        "\n",
        "        train_loss, train_mIou, train_mIou_class, train_hist = train4(model, source_loader, target_loader, criterion, optimizer, classmixer)\n",
        "        # train_loss, train_mIou, train_mIou_class, train_hist = train3(model, train_loader, criterion, optimizer)\n",
        "\n",
        "        print(f'[Train Loss] : {train_loss:.6f} [mIoU]: {100.*train_mIou:.2f}%')\n",
        "\n",
        "        run.log({\n",
        "                \"epoch/step\": epoch,\n",
        "                \"epoch/train_loss\": train_loss,\n",
        "                \"epoch/train_mIou\": 100*train_mIou\n",
        "            }\n",
        "        )\n",
        "\n",
        "        val_loss, val_mIou, val_mIou_class, val_hist = validate(model, val_loader, criterion)\n",
        "\n",
        "        print(f'[Validation Loss] : {val_loss:.6f} [mIoU]: {100.*val_mIou:.2f}%')\n",
        "\n",
        "        run.log({\n",
        "                \"epoch/step\": epoch,\n",
        "                \"epoch/val_loss\": val_loss,\n",
        "                \"epoch/val_mIou\": 100*val_mIou\n",
        "            }\n",
        "        )\n",
        "\n",
        "        if True:\n",
        "            checkpoint = {\n",
        "                \"model_state_dict\": model.state_dict(),\n",
        "                \"optimizer_state_dict\": optimizer.state_dict(),\n",
        "                \"train_step\": train_step,\n",
        "                \"validate_step\": val_step,\n",
        "            }\n",
        "\n",
        "            file_name = f\"{run_name}_epoch_{epoch}.pth\"\n",
        "            \n",
        "            file_path = os.path.join(models_root_dir, file_name)\n",
        "            torch.save(checkpoint, file_path)\n",
        "\n",
        "            print(f\"Model saved to {file_path}\")\n",
        "\n",
        "            artifact = wandb.Artifact(name=run_detail, type=\"model\")\n",
        "            artifact.add_file(file_path)\n",
        "\n",
        "            run.log_artifact(artifact, aliases=[\"latest\", f\"epoch_{epoch}\"])\n",
        "\n",
        "        if epoch % 10 == 0:\n",
        "            log_confusion_matrix(\"Confusion Matrix - Train\", train_hist.cpu().numpy(), \"epoch/train_confusion_matrix\", \"epoch/step\", epoch)\n",
        "            log_confusion_matrix(\"Confusion Matrix - Validate\", val_hist.cpu().numpy(), \"epoch/validate_confusion_matrix\", \"epoch/step\", epoch)\n",
        "\n",
        "            log_bar_chart_ioU(f\"Train IoU per class - epoch {epoch}\", [c.name for c in GTA5Labels_TaskCV2017().list_ if c.name != \"void\"], train_mIou, train_mIou_class.cpu().numpy(), \"epoch/train_Iou_class\", \"epoch/step\", epoch)\n",
        "            log_bar_chart_ioU(f\"Validate IoU per class - epoch {epoch}\", [c.name for c in GTA5Labels_TaskCV2017().list_ if c.name != \"void\"], val_mIou, val_mIou_class.cpu().numpy(), \"epoch/validate_Iou_class\", \"epoch/step\", epoch)\n",
        "\n",
        "    run.config[\"end_epoch\"] = end_epoch\n",
        "    run.config[\"start_epoch\"] = start_epoch\n",
        "\n",
        "    if end_epoch == max_epoch:\n",
        "        mean_latency, std_latency, mean_fps = latency(device, model, H=512, W=1024)\n",
        "\n",
        "        run.log({\n",
        "            \"model/flops\": num_flops(device, model, 512, 1024),\n",
        "            \"model/latency_mean\": mean_latency,\n",
        "            \"model/latency_std\": std_latency,\n",
        "            \"model/mean_fps\": mean_fps,\n",
        "            \"model/param\": num_param(model)\n",
        "        })\n",
        "\n",
        "    run.finish()\n",
        "\n",
        "import wandb\n",
        "# wandb.finish()\n",
        "pipeline()\n",
        "# TODO: bar chart epoch 20, 30 for \"blur noise new\" run\n",
        "\n",
        "# per 4 epoche ci ha metto 38:12 minuti\n",
        "# jupyter-notebook --NotebookApp.allow_origin='https://colab.research.google.com' --port=8888 --NotebookApp.port_retries=0 --NotebookApp.allow_credentials=True\n",
        "\n",
        "# cuda 46:11 with data augmentation overhead from step 3B\n",
        "# 1:11:00 for 6 epochs, cuda step 3B"
      ]
    },
    {
      "cell_type": "code",
      "execution_count": 16,
      "metadata": {
        "colab": {
          "base_uri": "https://localhost:8080/",
          "height": 789
        },
        "id": "EHEnUiSXEpuJ",
        "outputId": "c00e4405-75ea-4d13-eedc-31ee112fc958"
      },
      "outputs": [
        {
          "data": {
            "text/html": [],
            "text/plain": [
              "<IPython.core.display.HTML object>"
            ]
          },
          "metadata": {},
          "output_type": "display_data"
        },
        {
          "data": {
            "text/html": [
              "<br>    <style><br>        .wandb-row {<br>            display: flex;<br>            flex-direction: row;<br>            flex-wrap: wrap;<br>            justify-content: flex-start;<br>            width: 100%;<br>        }<br>        .wandb-col {<br>            display: flex;<br>            flex-direction: column;<br>            flex-basis: 100%;<br>            flex: 1;<br>            padding: 10px;<br>        }<br>    </style><br><div class=\"wandb-row\"><div class=\"wandb-col\"><h3>Run history:</h3><br/><table class=\"wandb\"><tr><td>epoch/100xlearning_rate</td><td>█▇▆▆▅▄▃▃▂▁</td></tr><tr><td>epoch/step</td><td>▁▁▁▂▂▂▃▃▃▃▃▃▄▄▄▅▅▅▅▅▅▅▆▆▆▆▆▆▇▇▇█</td></tr><tr><td>epoch/train_loss</td><td>█▇▆▆▅▂▃▂▁</td></tr><tr><td>epoch/train_mIou</td><td>█▄▄█▁▂▂▄▅</td></tr><tr><td>epoch/val_loss</td><td>█▄▇▆▁█▄▆▅</td></tr><tr><td>epoch/val_mIou</td><td>▄█▆▆▇▃▇▁▆</td></tr><tr><td>train/batch_loss</td><td>▄▂▇█▄▆▂▂▃▄▄▄▂▇▄▄▁▅▂▄▁▆▄▁▃▁▄▂▃▃▃▃▃▃▄▄▃▅▂▃</td></tr><tr><td>train/batch_mIou</td><td>▂▆▅▁▅▄▆▅▆▇█▆▃▆▆▅▆▅▇█▇▅▄▂▆▆▆▆▄▅▅▃▅▄▄▄▄▆▇▆</td></tr><tr><td>train/step</td><td>▁▁▁▁▁▂▂▂▂▂▃▃▃▃▃▃▄▄▄▄▄▄▅▅▅▅▅▆▆▆▆▆▇▇▇▇▇▇▇█</td></tr><tr><td>train/unsupervised_confidence</td><td>▄▄▁▄▇▇▅▃▆▆▄█▄▆▆▃▄▄▅▅█▇▄▄▇▅▅▅▇▆▅▆▄▆▄▅▇▇▅▆</td></tr><tr><td>validate/batch_loss</td><td>▅▅▇▆▅▃▁▄▄▄▃▅▅▄▄▄▅▄▃▂▃▁▂▅▄█▃▃▄▃▄▄▃▄▆▅▄▃▃▄</td></tr><tr><td>validate/batch_mIou</td><td>▅▄▁▅▃█▄▂▃▅▂▅▆▆▃▇▆▃▂▂▅▅▂▅▃▆▆▆▄█▂▅▃▄▁▁▅▅▂▁</td></tr><tr><td>validate/step</td><td>▁▁▁▁▁▂▂▃▃▃▃▃▃▄▄▄▄▅▅▅▅▅▅▅▅▆▆▆▆▇▇▇▇▇▇▇████</td></tr></table><br/></div><div class=\"wandb-col\"><h3>Run summary:</h3><br/><table class=\"wandb\"><tr><td>epoch/100xlearning_rate</td><td>0.00947</td></tr><tr><td>epoch/step</td><td>34</td></tr><tr><td>epoch/train_loss</td><td>1.96591</td></tr><tr><td>epoch/train_mIou</td><td>47.93637</td></tr><tr><td>epoch/val_loss</td><td>2.12005</td></tr><tr><td>epoch/val_mIou</td><td>17.90823</td></tr><tr><td>train/batch_loss</td><td>1.9935</td></tr><tr><td>train/batch_mIou</td><td>54.74343</td></tr><tr><td>train/step</td><td>397</td></tr><tr><td>train/unsupervised_confidence</td><td>0.64984</td></tr><tr><td>validate/batch_loss</td><td>2.07023</td></tr><tr><td>validate/batch_mIou</td><td>22.43501</td></tr><tr><td>validate/step</td><td>595</td></tr></table><br/></div></div>"
            ],
            "text/plain": [
              "<IPython.core.display.HTML object>"
            ]
          },
          "metadata": {},
          "output_type": "display_data"
        },
        {
          "data": {
            "text/html": [
              " View run <strong style=\"color:#cdcd00\">step_4B_DACS_paper_aug_with_no_noise_aug_after_mixing_new</strong> at: <a href='https://wandb.ai/Machine_learning_and_Deep_learning_labs/Semantic%20Segmentation/runs/vjdurlbg' target=\"_blank\">https://wandb.ai/Machine_learning_and_Deep_learning_labs/Semantic%20Segmentation/runs/vjdurlbg</a><br> View project at: <a href='https://wandb.ai/Machine_learning_and_Deep_learning_labs/Semantic%20Segmentation' target=\"_blank\">https://wandb.ai/Machine_learning_and_Deep_learning_labs/Semantic%20Segmentation</a><br>Synced 5 W&B file(s), 4 media file(s), 18 artifact file(s) and 0 other file(s)"
            ],
            "text/plain": [
              "<IPython.core.display.HTML object>"
            ]
          },
          "metadata": {},
          "output_type": "display_data"
        },
        {
          "data": {
            "text/html": [
              "Find logs at: <code>.\\wandb\\run-20250615_152934-vjdurlbg\\logs</code>"
            ],
            "text/plain": [
              "<IPython.core.display.HTML object>"
            ]
          },
          "metadata": {},
          "output_type": "display_data"
        }
      ],
      "source": [
        "import wandb\n",
        "wandb.finish()"
      ]
    },
    {
      "cell_type": "markdown",
      "metadata": {
        "id": "IhirUTIy-Kff"
      },
      "source": [
        "# Load another model"
      ]
    },
    {
      "cell_type": "code",
      "execution_count": 17,
      "metadata": {
        "id": "oZ_U4Kbn8Nbd"
      },
      "outputs": [],
      "source": [
        "def load_model(artifact_name:str, file_prefix:str, device, id=None, epoch=50):\n",
        "    model = BiSeNet(19, \"resnet18\").to(device)\n",
        "\n",
        "    run = wandb.init(id=id, resume=\"allow\")\n",
        "\n",
        "    artifact = run.use_artifact(f'Machine_learning_and_Deep_learning_labs/Semantic Segmentation/{artifact_name}:epoch_{epoch}', type='model')\n",
        "    # artifact = run.use_artifact(f'Machine_learning_and_Deep_learning_labs/Semantic Segmentation/{artifact_name}:v72', type='model')\n",
        "    artifact_dir = artifact.download()\n",
        "    # artifact_dir = \"./artifacts/step_3B_BiSeNet-resnet18_GTA5-v42\"\n",
        "\n",
        "    artifact_path = os.path.join(artifact_dir, f\"{file_prefix}_epoch_{epoch}.pth\")\n",
        "\n",
        "    checkpoint = torch.load(artifact_path, map_location=device)\n",
        "\n",
        "    run.finish()\n",
        "\n",
        "    model.load_state_dict(checkpoint[\"model_state_dict\"])\n",
        "\n",
        "    return model\n"
      ]
    },
    {
      "cell_type": "code",
      "execution_count": 19,
      "metadata": {
        "colab": {
          "base_uri": "https://localhost:8080/",
          "height": 225
        },
        "id": "Go_ulhhL9hkC",
        "outputId": "2451e17a-161a-4cc5-9eb0-8af68736b44e"
      },
      "outputs": [
        {
          "data": {
            "text/html": [
              "Finishing previous runs because reinit is set to 'default'."
            ],
            "text/plain": [
              "<IPython.core.display.HTML object>"
            ]
          },
          "metadata": {},
          "output_type": "display_data"
        },
        {
          "data": {
            "text/html": [],
            "text/plain": [
              "<IPython.core.display.HTML object>"
            ]
          },
          "metadata": {},
          "output_type": "display_data"
        },
        {
          "data": {
            "text/html": [
              " View run <strong style=\"color:#cdcd00\">wandering-jazz-63</strong> at: <a href='https://wandb.ai/Machine_learning_and_Deep_learning_labs/uncategorized/runs/zfe3iniu' target=\"_blank\">https://wandb.ai/Machine_learning_and_Deep_learning_labs/uncategorized/runs/zfe3iniu</a><br> View project at: <a href='https://wandb.ai/Machine_learning_and_Deep_learning_labs/uncategorized' target=\"_blank\">https://wandb.ai/Machine_learning_and_Deep_learning_labs/uncategorized</a><br>Synced 5 W&B file(s), 0 media file(s), 0 artifact file(s) and 0 other file(s)"
            ],
            "text/plain": [
              "<IPython.core.display.HTML object>"
            ]
          },
          "metadata": {},
          "output_type": "display_data"
        },
        {
          "data": {
            "text/html": [
              "Find logs at: <code>.\\wandb\\run-20250616_003622-zfe3iniu\\logs</code>"
            ],
            "text/plain": [
              "<IPython.core.display.HTML object>"
            ]
          },
          "metadata": {},
          "output_type": "display_data"
        },
        {
          "data": {
            "text/html": [
              "Tracking run with wandb version 0.19.11"
            ],
            "text/plain": [
              "<IPython.core.display.HTML object>"
            ]
          },
          "metadata": {},
          "output_type": "display_data"
        },
        {
          "data": {
            "text/html": [
              "Run data is saved locally in <code>c:\\Users\\Utente\\Jupyter\\wandb\\run-20250616_003654-zfe3iniu</code>"
            ],
            "text/plain": [
              "<IPython.core.display.HTML object>"
            ]
          },
          "metadata": {},
          "output_type": "display_data"
        },
        {
          "data": {
            "text/html": [
              "Resuming run <strong><a href='https://wandb.ai/Machine_learning_and_Deep_learning_labs/uncategorized/runs/zfe3iniu' target=\"_blank\">wandering-jazz-63</a></strong> to <a href='https://wandb.ai/Machine_learning_and_Deep_learning_labs/uncategorized' target=\"_blank\">Weights & Biases</a> (<a href='https://wandb.me/developer-guide' target=\"_blank\">docs</a>)<br>"
            ],
            "text/plain": [
              "<IPython.core.display.HTML object>"
            ]
          },
          "metadata": {},
          "output_type": "display_data"
        },
        {
          "data": {
            "text/html": [
              " View project at <a href='https://wandb.ai/Machine_learning_and_Deep_learning_labs/uncategorized' target=\"_blank\">https://wandb.ai/Machine_learning_and_Deep_learning_labs/uncategorized</a>"
            ],
            "text/plain": [
              "<IPython.core.display.HTML object>"
            ]
          },
          "metadata": {},
          "output_type": "display_data"
        },
        {
          "data": {
            "text/html": [
              " View run at <a href='https://wandb.ai/Machine_learning_and_Deep_learning_labs/uncategorized/runs/zfe3iniu' target=\"_blank\">https://wandb.ai/Machine_learning_and_Deep_learning_labs/uncategorized/runs/zfe3iniu</a>"
            ],
            "text/plain": [
              "<IPython.core.display.HTML object>"
            ]
          },
          "metadata": {},
          "output_type": "display_data"
        },
        {
          "name": "stderr",
          "output_type": "stream",
          "text": [
            "wandb: Downloading large artifact step_4B_DACS_paper_aug_with_no_noise_aug_after_mixing_new_BiSeNet-resnet18_Mixed:epoch_50, 94.20MB. 1 files... \n",
            "wandb:   1 of 1 files downloaded.  \n",
            "Done. 0:0:5.3 (17.8MB/s)\n"
          ]
        },
        {
          "data": {
            "text/html": [],
            "text/plain": [
              "<IPython.core.display.HTML object>"
            ]
          },
          "metadata": {},
          "output_type": "display_data"
        },
        {
          "data": {
            "text/html": [
              " View run <strong style=\"color:#cdcd00\">wandering-jazz-63</strong> at: <a href='https://wandb.ai/Machine_learning_and_Deep_learning_labs/uncategorized/runs/zfe3iniu' target=\"_blank\">https://wandb.ai/Machine_learning_and_Deep_learning_labs/uncategorized/runs/zfe3iniu</a><br> View project at: <a href='https://wandb.ai/Machine_learning_and_Deep_learning_labs/uncategorized' target=\"_blank\">https://wandb.ai/Machine_learning_and_Deep_learning_labs/uncategorized</a><br>Synced 5 W&B file(s), 0 media file(s), 0 artifact file(s) and 0 other file(s)"
            ],
            "text/plain": [
              "<IPython.core.display.HTML object>"
            ]
          },
          "metadata": {},
          "output_type": "display_data"
        },
        {
          "data": {
            "text/html": [
              "Find logs at: <code>.\\wandb\\run-20250616_003654-zfe3iniu\\logs</code>"
            ],
            "text/plain": [
              "<IPython.core.display.HTML object>"
            ]
          },
          "metadata": {},
          "output_type": "display_data"
        }
      ],
      "source": [
        "device = \"cuda\"\n",
        "\n",
        "run_name = \"step_4B_DACS_paper_aug_with_no_noise_aug_after_mixing_new\"\n",
        "\n",
        "model = load_model(artifact_name=f\"{run_name}_BiSeNet-resnet18_Mixed\", file_prefix=run_name, device=device, id=\"zfe3iniu\", epoch=50)\n",
        "model.eval()\n",
        "None"
      ]
    },
    {
      "cell_type": "code",
      "execution_count": 55,
      "metadata": {
        "colab": {
          "base_uri": "https://localhost:8080/",
          "height": 661
        },
        "id": "MnxBcOTxJB7H",
        "outputId": "e2d7c467-21ee-4804-d2af-fdb947f99cda"
      },
      "outputs": [
        {
          "data": {
            "image/png": "[encoded data removed]",
            "text/plain": [
              "<Figure size 700x700 with 2 Axes>"
            ]
          },
          "metadata": {},
          "output_type": "display_data"
        },
        {
          "data": {
            "image/png": "[encoded data removed]",
            "text/plain": [
              "<Figure size 700x700 with 2 Axes>"
            ]
          },
          "metadata": {},
          "output_type": "display_data"
        },
        {
          "data": {
            "image/png": "[encoded data removed]",
            "text/plain": [
              "<Figure size 700x700 with 2 Axes>"
            ]
          },
          "metadata": {},
          "output_type": "display_data"
        },
        {
          "data": {
            "image/png": "[encoded data removed]",
            "text/plain": [
              "<Figure size 700x700 with 2 Axes>"
            ]
          },
          "metadata": {},
          "output_type": "display_data"
        }
      ],
      "source": [
        "B = 4\n",
        "H = 512\n",
        "W = 1024\n",
        "\n",
        "transform = v2.Compose([\n",
        "    v2.ToTensor(),\n",
        "    v2.Resize((H,W)),\n",
        "    # v2.Normalize(mean=[0.485, 0.456, 0.406], std=[0.229, 0.224, 0.225])\n",
        "])\n",
        "target_transform = v2.Compose([\n",
        "    v2.ToTensor(),\n",
        "    v2.Resize((H, W), interpolation=v2.InterpolationMode.NEAREST),\n",
        "])\n",
        "\n",
        "s = 0.4\n",
        "custom_augmentation = v2.Compose([\n",
        "    nn.Identity(),\n",
        "    # v2.GaussianBlur(7),\n",
        "    v2.ColorJitter(brightness=s, contrast=s, saturation=s, hue=s),\n",
        "    # v2.GaussianNoise(mean=0, sigma=0.05)\n",
        "])\n",
        "\n",
        "# data = CityScapes(\"./Cityscapes/Cityspaces\", split=\"train\", transform=transform, target_transform=target_transform)\n",
        "data = CityScapes(\"./Cityscapes/Cityspaces\", split=\"val\", transform=transform, target_transform=target_transform)\n",
        "# data, _ = GTA5_dataset_splitter(\"./Gta5_extended\", train_split_percent=1.0, split_seed=42, augment=False, transform=transform, target_transform=target_transform)\n",
        "\n",
        "dataloader = DataLoader(data, batch_size=B, shuffle=True)\n",
        "# dataloader = DataLoader(data, batch_size=B, shuffle=False)\n",
        "\n",
        "img_tensor, color_tensor, label = next(iter(dataloader))\n",
        "\n",
        "img_tensor = \\\n",
        "normalize(\n",
        "    custom_augmentation(\n",
        "        img_tensor\n",
        "    )\n",
        ")\n",
        "\n",
        "# img_tensor = img_tensor.clamp(0,1)\n",
        "\n",
        "predicted_labels = model(\n",
        "    img_tensor.to(device)\n",
        ").argmax(1).detach().cpu()\n",
        "\n",
        "criterion = nn.CrossEntropyLoss(ignore_index=255)\n",
        "\n",
        "for i in range(B):\n",
        "    predicted_colors = decode_segmap(predicted_labels[i].numpy())\n",
        "    true_colors = decode_segmap(label[i, 0].numpy())\n",
        "\n",
        "    fig, axes = plt.subplot_mosaic(\n",
        "        \"\"\"\n",
        "            AABB\n",
        "            AABB\n",
        "        \"\"\",\n",
        "        figsize=(7,7), layout=\"tight\"\n",
        "    )\n",
        "    # fig, ax = plt.subplots(2,2, figsize=(10,10), layout=\"tight\")\n",
        "\n",
        "    axes[\"A\"].set_title(\"Original segmentation map\")\n",
        "    axes[\"A\"].imshow(true_colors)\n",
        "    axes[\"A\"].axis('off')\n",
        "\n",
        "    axes[\"B\"].set_title(\"Predicted segmentation map\")\n",
        "    axes[\"B\"].imshow(predicted_colors)\n",
        "    axes[\"B\"].axis('off')\n",
        "\n",
        "    # axes[\"C\"].set_title(\"Predicted segmentation map\")\n",
        "    # axes[\"C\"].imshow(tensorToImageCompatible(img_tensor[i]))\n",
        "    # axes[\"C\"].axis('off')\n",
        "\n",
        "    fig.show()\n"
      ]
    },
    {
      "cell_type": "code",
      "execution_count": null,
      "metadata": {},
      "outputs": [
        {
          "data": {
            "application/vnd.jupyter.widget-view+json": {
              "model_id": "6f2c1d443fdb4b8b9d01ff7dfe181f74",
              "version_major": 2,
              "version_minor": 0
            },
            "text/plain": [
              "  0%|          | 0/125 [00:00<?, ?it/s]"
            ]
          },
          "metadata": {},
          "output_type": "display_data"
        },
        {
          "name": "stdout",
          "output_type": "stream",
          "text": [
            "Loss: 3.3400170640945435\n",
            " mIou: 0.11896666884422302\n",
            ", mIou per classe: [0.24252745509147644, 0.052859604358673096, 0.5206817388534546, 0.01624700054526329, 0.0, 0.002765352837741375, 0.0, 0.0, 0.020420748740434647, 0.0075667607598006725, 0.1374092698097229, 0.0, 0.0, 0.2872229516506195, 0.009759081527590752, 0.011173403821885586, 0.0, 0.0, 0.0]\n"
          ]
        }
      ],
      "source": [
        "ENABLE_PRINT = False\n",
        "ENABLE_WANDB_LOG = False\n",
        "\n",
        "loss, mIou, mIou_class, _ = validate(model, dataloader, criterion)\n",
        "\n",
        "print(f\"Loss: {loss}\\nmIou: {mIou}\\nmIou per classe: {mIou_class.tolist()}\")"
      ]
    },
    {
      "cell_type": "markdown",
      "metadata": {},
      "source": [
        "# Class frequency calculation"
      ]
    },
    {
      "cell_type": "code",
      "execution_count": null,
      "metadata": {},
      "outputs": [],
      "source": [
        "data, _ = GTA5_dataset_splitter(\"./Gta5_extended\", train_split_percent=1.0, split_seed=42, augment=True, transform=v2.ToTensor(), target_transform=v2.ToTensor())\n",
        "dataloader = DataLoader(data, batch_size=1, shuffle=True)\n",
        "\n",
        "freqs = torch.zeros(n_classes)\n",
        "\n",
        "for _,_,label in tqdm(dataloader):\n",
        "    freqs += torch.bincount(label[label < n_classes].view(-1), minlength=n_classes)[:n_classes]\n",
        "\n",
        "    # plt.imshow(label[0].repeat(3,1,1).permute(1,2,0))\n",
        "\n",
        "print(freqs)"
      ]
    },
    {
      "cell_type": "code",
      "execution_count": null,
      "metadata": {},
      "outputs": [],
      "source": [
        "objects = GTA5Labels_TaskCV2017().list_\n",
        "\n",
        "print(\"id;name;count\")\n",
        "for i in range(n_classes):\n",
        "    print(f\"{objects[i].ID};{objects[i].name};{freqs[i].item()}\")"
      ]
    },
    {
      "cell_type": "code",
      "execution_count": null,
      "metadata": {},
      "outputs": [],
      "source": [
        "import torch\n",
        "import matplotlib.pyplot as plt\n",
        "\n",
        "l = [2000279424,157799632,586026240,79183408,31111896,52304620,5818070,5331167,313206784,140294832,734290112,5793555,1213679,100922184,54996872,12020944,15980102,1665942,260148]\n",
        "\n",
        "a = torch.Tensor(l)\n",
        "\n",
        "a /= a.sum()\n",
        "\n",
        "fig, axs= plt.subplots(2,2)\n",
        "\n",
        "T = [[0.015, 0.02], [0.03, 0.06]]\n",
        "correction = torch.zeros(19)\n",
        "for i in range(2):\n",
        "    for j in range(2):\n",
        "        b = torch.exp((1-a)/T[i][j])/torch.sum(torch.exp((1-a)/T[i][j]))\n",
        "    \n",
        "        axs[i,j].plot(b)\n",
        "\n",
        "T = [[0.015, 0.02], [0.03, 0.06]]\n",
        "correction = torch.zeros(19)\n",
        "for i in range(2):\n",
        "    for j in range(2):\n",
        "        b = torch.exp((1-a)/T[i][j])/torch.sum(torch.exp((1-a)/T[i][j]))\n",
        "        \n",
        "        correction += 1-b/0.6\n",
        "\n",
        "        axs[i,j].plot((b+correction)/(b+correction).sum())\n",
        "        \n",
        "print(b.sum())\n",
        "plt.plot(b)"
      ]
    }
  ],
  "metadata": {
    "accelerator": "GPU",
    "colab": {
      "collapsed_sections": [
        "Jntcuf0zNwaq",
        "c9TMCaEmg1N4",
        "JxswDJZOmLqQ",
        "BLfNdNzyMyxn",
        "gEx91uPqlFv3",
        "YZME_xiNNE-g",
        "LTki3m7aNH10",
        "u9m62PVUaXz6",
        "O2ybDTYzv0ZS",
        "XPTyvGv0fQd8",
        "_isSfs1sgJGE",
        "w0KuuGIWNAbF",
        "ON-XdXCkNCrn",
        "IhirUTIy-Kff",
        "3pafoSrDQ0es"
      ],
      "gpuType": "T4",
      "provenance": []
    },
    "kernelspec": {
      "display_name": "Python 3",
      "name": "python3"
    },
    "language_info": {
      "codemirror_mode": {
        "name": "ipython",
        "version": 3
      },
      "file_extension": ".py",
      "mimetype": "text/x-python",
      "name": "python",
      "nbconvert_exporter": "python",
      "pygments_lexer": "ipython3",
      "version": "3.12.1"
    },
    "widgets": {
      "application/vnd.jupyter.widget-state+json": {
        "166da3ac145f40d894f626ab60f82774": {
          "model_module": "@jupyter-widgets/controls",
          "model_module_version": "1.5.0",
          "model_name": "DescriptionStyleModel",
          "state": {
            "_model_module": "@jupyter-widgets/controls",
            "_model_module_version": "1.5.0",
            "_model_name": "DescriptionStyleModel",
            "_view_count": null,
            "_view_module": "@jupyter-widgets/base",
            "_view_module_version": "1.2.0",
            "_view_name": "StyleView",
            "description_width": ""
          }
        },
        "219f47ce4b8d4f3dac47e21d4d95c63f": {
          "model_module": "@jupyter-widgets/base",
          "model_module_version": "1.2.0",
          "model_name": "LayoutModel",
          "state": {
            "_model_module": "@jupyter-widgets/base",
            "_model_module_version": "1.2.0",
            "_model_name": "LayoutModel",
            "_view_count": null,
            "_view_module": "@jupyter-widgets/base",
            "_view_module_version": "1.2.0",
            "_view_name": "LayoutView",
            "align_content": null,
            "align_items": null,
            "align_self": null,
            "border": null,
            "bottom": null,
            "display": null,
            "flex": null,
            "flex_flow": null,
            "grid_area": null,
            "grid_auto_columns": null,
            "grid_auto_flow": null,
            "grid_auto_rows": null,
            "grid_column": null,
            "grid_gap": null,
            "grid_row": null,
            "grid_template_areas": null,
            "grid_template_columns": null,
            "grid_template_rows": null,
            "height": null,
            "justify_content": null,
            "justify_items": null,
            "left": null,
            "margin": null,
            "max_height": null,
            "max_width": null,
            "min_height": null,
            "min_width": null,
            "object_fit": null,
            "object_position": null,
            "order": null,
            "overflow": null,
            "overflow_x": null,
            "overflow_y": null,
            "padding": null,
            "right": null,
            "top": null,
            "visibility": null,
            "width": null
          }
        },
        "26559a2ed8ae4244b098950164fa0eb5": {
          "model_module": "@jupyter-widgets/base",
          "model_module_version": "1.2.0",
          "model_name": "LayoutModel",
          "state": {
            "_model_module": "@jupyter-widgets/base",
            "_model_module_version": "1.2.0",
            "_model_name": "LayoutModel",
            "_view_count": null,
            "_view_module": "@jupyter-widgets/base",
            "_view_module_version": "1.2.0",
            "_view_name": "LayoutView",
            "align_content": null,
            "align_items": null,
            "align_self": null,
            "border": null,
            "bottom": null,
            "display": null,
            "flex": null,
            "flex_flow": null,
            "grid_area": null,
            "grid_auto_columns": null,
            "grid_auto_flow": null,
            "grid_auto_rows": null,
            "grid_column": null,
            "grid_gap": null,
            "grid_row": null,
            "grid_template_areas": null,
            "grid_template_columns": null,
            "grid_template_rows": null,
            "height": null,
            "justify_content": null,
            "justify_items": null,
            "left": null,
            "margin": null,
            "max_height": null,
            "max_width": null,
            "min_height": null,
            "min_width": null,
            "object_fit": null,
            "object_position": null,
            "order": null,
            "overflow": null,
            "overflow_x": null,
            "overflow_y": null,
            "padding": null,
            "right": null,
            "top": null,
            "visibility": null,
            "width": null
          }
        },
        "3d50ec68a6e6484dbef4b94d9b9bfd2a": {
          "model_module": "@jupyter-widgets/controls",
          "model_module_version": "1.5.0",
          "model_name": "HTMLModel",
          "state": {
            "_dom_classes": [],
            "_model_module": "@jupyter-widgets/controls",
            "_model_module_version": "1.5.0",
            "_model_name": "HTMLModel",
            "_view_count": null,
            "_view_module": "@jupyter-widgets/controls",
            "_view_module_version": "1.5.0",
            "_view_name": "HTMLView",
            "description": "",
            "description_tooltip": null,
            "layout": "IPY_MODEL_c62c4f0186b74b999cc2c7c8610f76de",
            "placeholder": "​",
            "style": "IPY_MODEL_cbc43d6d534e4d439f95a1d694f7ac00",
            "value": " 6216/6216 [00:44&lt;00:00, 39.77it/s]"
          }
        },
        "43d0c4a9221d45f9ba3a9c67eed8123d": {
          "model_module": "@jupyter-widgets/controls",
          "model_module_version": "1.5.0",
          "model_name": "ProgressStyleModel",
          "state": {
            "_model_module": "@jupyter-widgets/controls",
            "_model_module_version": "1.5.0",
            "_model_name": "ProgressStyleModel",
            "_view_count": null,
            "_view_module": "@jupyter-widgets/base",
            "_view_module_version": "1.2.0",
            "_view_name": "StyleView",
            "bar_color": null,
            "description_width": ""
          }
        },
        "4899af448b984d12bcc663899963447d": {
          "model_module": "@jupyter-widgets/base",
          "model_module_version": "1.2.0",
          "model_name": "LayoutModel",
          "state": {
            "_model_module": "@jupyter-widgets/base",
            "_model_module_version": "1.2.0",
            "_model_name": "LayoutModel",
            "_view_count": null,
            "_view_module": "@jupyter-widgets/base",
            "_view_module_version": "1.2.0",
            "_view_name": "LayoutView",
            "align_content": null,
            "align_items": null,
            "align_self": null,
            "border": null,
            "bottom": null,
            "display": null,
            "flex": null,
            "flex_flow": null,
            "grid_area": null,
            "grid_auto_columns": null,
            "grid_auto_flow": null,
            "grid_auto_rows": null,
            "grid_column": null,
            "grid_gap": null,
            "grid_row": null,
            "grid_template_areas": null,
            "grid_template_columns": null,
            "grid_template_rows": null,
            "height": null,
            "justify_content": null,
            "justify_items": null,
            "left": null,
            "margin": null,
            "max_height": null,
            "max_width": null,
            "min_height": null,
            "min_width": null,
            "object_fit": null,
            "object_position": null,
            "order": null,
            "overflow": null,
            "overflow_x": null,
            "overflow_y": null,
            "padding": null,
            "right": null,
            "top": null,
            "visibility": null,
            "width": null
          }
        },
        "581ce3cc835c4576a39255978c8526cb": {
          "model_module": "@jupyter-widgets/base",
          "model_module_version": "1.2.0",
          "model_name": "LayoutModel",
          "state": {
            "_model_module": "@jupyter-widgets/base",
            "_model_module_version": "1.2.0",
            "_model_name": "LayoutModel",
            "_view_count": null,
            "_view_module": "@jupyter-widgets/base",
            "_view_module_version": "1.2.0",
            "_view_name": "LayoutView",
            "align_content": null,
            "align_items": null,
            "align_self": null,
            "border": null,
            "bottom": null,
            "display": null,
            "flex": null,
            "flex_flow": null,
            "grid_area": null,
            "grid_auto_columns": null,
            "grid_auto_flow": null,
            "grid_auto_rows": null,
            "grid_column": null,
            "grid_gap": null,
            "grid_row": null,
            "grid_template_areas": null,
            "grid_template_columns": null,
            "grid_template_rows": null,
            "height": null,
            "justify_content": null,
            "justify_items": null,
            "left": null,
            "margin": null,
            "max_height": null,
            "max_width": null,
            "min_height": null,
            "min_width": null,
            "object_fit": null,
            "object_position": null,
            "order": null,
            "overflow": null,
            "overflow_x": null,
            "overflow_y": null,
            "padding": null,
            "right": null,
            "top": null,
            "visibility": null,
            "width": null
          }
        },
        "64cd3c2cc1d34100b8d861d14bcd6178": {
          "model_module": "@jupyter-widgets/controls",
          "model_module_version": "1.5.0",
          "model_name": "DescriptionStyleModel",
          "state": {
            "_model_module": "@jupyter-widgets/controls",
            "_model_module_version": "1.5.0",
            "_model_name": "DescriptionStyleModel",
            "_view_count": null,
            "_view_module": "@jupyter-widgets/base",
            "_view_module_version": "1.2.0",
            "_view_name": "StyleView",
            "description_width": ""
          }
        },
        "6684ff67a8f14b94819fb4b3718be137": {
          "model_module": "@jupyter-widgets/controls",
          "model_module_version": "1.5.0",
          "model_name": "DescriptionStyleModel",
          "state": {
            "_model_module": "@jupyter-widgets/controls",
            "_model_module_version": "1.5.0",
            "_model_name": "DescriptionStyleModel",
            "_view_count": null,
            "_view_module": "@jupyter-widgets/base",
            "_view_module_version": "1.2.0",
            "_view_name": "StyleView",
            "description_width": ""
          }
        },
        "69c6f32570574572a57963c78fb9d864": {
          "model_module": "@jupyter-widgets/base",
          "model_module_version": "1.2.0",
          "model_name": "LayoutModel",
          "state": {
            "_model_module": "@jupyter-widgets/base",
            "_model_module_version": "1.2.0",
            "_model_name": "LayoutModel",
            "_view_count": null,
            "_view_module": "@jupyter-widgets/base",
            "_view_module_version": "1.2.0",
            "_view_name": "LayoutView",
            "align_content": null,
            "align_items": null,
            "align_self": null,
            "border": null,
            "bottom": null,
            "display": null,
            "flex": null,
            "flex_flow": null,
            "grid_area": null,
            "grid_auto_columns": null,
            "grid_auto_flow": null,
            "grid_auto_rows": null,
            "grid_column": null,
            "grid_gap": null,
            "grid_row": null,
            "grid_template_areas": null,
            "grid_template_columns": null,
            "grid_template_rows": null,
            "height": null,
            "justify_content": null,
            "justify_items": null,
            "left": null,
            "margin": null,
            "max_height": null,
            "max_width": null,
            "min_height": null,
            "min_width": null,
            "object_fit": null,
            "object_position": null,
            "order": null,
            "overflow": null,
            "overflow_x": null,
            "overflow_y": null,
            "padding": null,
            "right": null,
            "top": null,
            "visibility": null,
            "width": null
          }
        },
        "93c53ea0fe8c4fdd8a97ba1a5ee71af3": {
          "model_module": "@jupyter-widgets/controls",
          "model_module_version": "1.5.0",
          "model_name": "HBoxModel",
          "state": {
            "_dom_classes": [],
            "_model_module": "@jupyter-widgets/controls",
            "_model_module_version": "1.5.0",
            "_model_name": "HBoxModel",
            "_view_count": null,
            "_view_module": "@jupyter-widgets/controls",
            "_view_module_version": "1.5.0",
            "_view_name": "HBoxView",
            "box_style": "",
            "children": [
              "IPY_MODEL_d0b6dc54747d46b5bf96f4b795b5627d",
              "IPY_MODEL_940ea8bba0c64f78961399d4855eeace",
              "IPY_MODEL_3d50ec68a6e6484dbef4b94d9b9bfd2a"
            ],
            "layout": "IPY_MODEL_26559a2ed8ae4244b098950164fa0eb5"
          }
        },
        "940ea8bba0c64f78961399d4855eeace": {
          "model_module": "@jupyter-widgets/controls",
          "model_module_version": "1.5.0",
          "model_name": "FloatProgressModel",
          "state": {
            "_dom_classes": [],
            "_model_module": "@jupyter-widgets/controls",
            "_model_module_version": "1.5.0",
            "_model_name": "FloatProgressModel",
            "_view_count": null,
            "_view_module": "@jupyter-widgets/controls",
            "_view_module_version": "1.5.0",
            "_view_name": "ProgressView",
            "bar_style": "success",
            "description": "",
            "description_tooltip": null,
            "layout": "IPY_MODEL_e1d31ad13ffb4ad0a0a658c3f363eee6",
            "max": 6216,
            "min": 0,
            "orientation": "horizontal",
            "style": "IPY_MODEL_43d0c4a9221d45f9ba3a9c67eed8123d",
            "value": 6216
          }
        },
        "b6438ae4a5e4474bbbfa7dbb7c806a16": {
          "model_module": "@jupyter-widgets/controls",
          "model_module_version": "1.5.0",
          "model_name": "HTMLModel",
          "state": {
            "_dom_classes": [],
            "_model_module": "@jupyter-widgets/controls",
            "_model_module_version": "1.5.0",
            "_model_name": "HTMLModel",
            "_view_count": null,
            "_view_module": "@jupyter-widgets/controls",
            "_view_module_version": "1.5.0",
            "_view_name": "HTMLView",
            "description": "",
            "description_tooltip": null,
            "layout": "IPY_MODEL_69c6f32570574572a57963c78fb9d864",
            "placeholder": "​",
            "style": "IPY_MODEL_6684ff67a8f14b94819fb4b3718be137",
            "value": " 7500/7500 [01:15&lt;00:00, 1693.13it/s]"
          }
        },
        "c62c4f0186b74b999cc2c7c8610f76de": {
          "model_module": "@jupyter-widgets/base",
          "model_module_version": "1.2.0",
          "model_name": "LayoutModel",
          "state": {
            "_model_module": "@jupyter-widgets/base",
            "_model_module_version": "1.2.0",
            "_model_name": "LayoutModel",
            "_view_count": null,
            "_view_module": "@jupyter-widgets/base",
            "_view_module_version": "1.2.0",
            "_view_name": "LayoutView",
            "align_content": null,
            "align_items": null,
            "align_self": null,
            "border": null,
            "bottom": null,
            "display": null,
            "flex": null,
            "flex_flow": null,
            "grid_area": null,
            "grid_auto_columns": null,
            "grid_auto_flow": null,
            "grid_auto_rows": null,
            "grid_column": null,
            "grid_gap": null,
            "grid_row": null,
            "grid_template_areas": null,
            "grid_template_columns": null,
            "grid_template_rows": null,
            "height": null,
            "justify_content": null,
            "justify_items": null,
            "left": null,
            "margin": null,
            "max_height": null,
            "max_width": null,
            "min_height": null,
            "min_width": null,
            "object_fit": null,
            "object_position": null,
            "order": null,
            "overflow": null,
            "overflow_x": null,
            "overflow_y": null,
            "padding": null,
            "right": null,
            "top": null,
            "visibility": null,
            "width": null
          }
        },
        "ca53b671cecf4f09b535f69950e76158": {
          "model_module": "@jupyter-widgets/controls",
          "model_module_version": "1.5.0",
          "model_name": "FloatProgressModel",
          "state": {
            "_dom_classes": [],
            "_model_module": "@jupyter-widgets/controls",
            "_model_module_version": "1.5.0",
            "_model_name": "FloatProgressModel",
            "_view_count": null,
            "_view_module": "@jupyter-widgets/controls",
            "_view_module_version": "1.5.0",
            "_view_name": "ProgressView",
            "bar_style": "success",
            "description": "",
            "description_tooltip": null,
            "layout": "IPY_MODEL_581ce3cc835c4576a39255978c8526cb",
            "max": 7500,
            "min": 0,
            "orientation": "horizontal",
            "style": "IPY_MODEL_e59f8ab1c510475fb8c4d50a00a1df87",
            "value": 7500
          }
        },
        "cbc43d6d534e4d439f95a1d694f7ac00": {
          "model_module": "@jupyter-widgets/controls",
          "model_module_version": "1.5.0",
          "model_name": "DescriptionStyleModel",
          "state": {
            "_model_module": "@jupyter-widgets/controls",
            "_model_module_version": "1.5.0",
            "_model_name": "DescriptionStyleModel",
            "_view_count": null,
            "_view_module": "@jupyter-widgets/base",
            "_view_module_version": "1.2.0",
            "_view_name": "StyleView",
            "description_width": ""
          }
        },
        "d0b6dc54747d46b5bf96f4b795b5627d": {
          "model_module": "@jupyter-widgets/controls",
          "model_module_version": "1.5.0",
          "model_name": "HTMLModel",
          "state": {
            "_dom_classes": [],
            "_model_module": "@jupyter-widgets/controls",
            "_model_module_version": "1.5.0",
            "_model_name": "HTMLModel",
            "_view_count": null,
            "_view_module": "@jupyter-widgets/controls",
            "_view_module_version": "1.5.0",
            "_view_name": "HTMLView",
            "description": "",
            "description_tooltip": null,
            "layout": "IPY_MODEL_4899af448b984d12bcc663899963447d",
            "placeholder": "​",
            "style": "IPY_MODEL_166da3ac145f40d894f626ab60f82774",
            "value": "Extracting PNGs: 100%"
          }
        },
        "d143fab025d84a85abfe83c0767ebc28": {
          "model_module": "@jupyter-widgets/base",
          "model_module_version": "1.2.0",
          "model_name": "LayoutModel",
          "state": {
            "_model_module": "@jupyter-widgets/base",
            "_model_module_version": "1.2.0",
            "_model_name": "LayoutModel",
            "_view_count": null,
            "_view_module": "@jupyter-widgets/base",
            "_view_module_version": "1.2.0",
            "_view_name": "LayoutView",
            "align_content": null,
            "align_items": null,
            "align_self": null,
            "border": null,
            "bottom": null,
            "display": null,
            "flex": null,
            "flex_flow": null,
            "grid_area": null,
            "grid_auto_columns": null,
            "grid_auto_flow": null,
            "grid_auto_rows": null,
            "grid_column": null,
            "grid_gap": null,
            "grid_row": null,
            "grid_template_areas": null,
            "grid_template_columns": null,
            "grid_template_rows": null,
            "height": null,
            "justify_content": null,
            "justify_items": null,
            "left": null,
            "margin": null,
            "max_height": null,
            "max_width": null,
            "min_height": null,
            "min_width": null,
            "object_fit": null,
            "object_position": null,
            "order": null,
            "overflow": null,
            "overflow_x": null,
            "overflow_y": null,
            "padding": null,
            "right": null,
            "top": null,
            "visibility": null,
            "width": null
          }
        },
        "d39adf153c8445da9829b09973db1553": {
          "model_module": "@jupyter-widgets/controls",
          "model_module_version": "1.5.0",
          "model_name": "HTMLModel",
          "state": {
            "_dom_classes": [],
            "_model_module": "@jupyter-widgets/controls",
            "_model_module_version": "1.5.0",
            "_model_name": "HTMLModel",
            "_view_count": null,
            "_view_module": "@jupyter-widgets/controls",
            "_view_module_version": "1.5.0",
            "_view_name": "HTMLView",
            "description": "",
            "description_tooltip": null,
            "layout": "IPY_MODEL_d143fab025d84a85abfe83c0767ebc28",
            "placeholder": "​",
            "style": "IPY_MODEL_64cd3c2cc1d34100b8d861d14bcd6178",
            "value": "Extracting PNGs: 100%"
          }
        },
        "e1d31ad13ffb4ad0a0a658c3f363eee6": {
          "model_module": "@jupyter-widgets/base",
          "model_module_version": "1.2.0",
          "model_name": "LayoutModel",
          "state": {
            "_model_module": "@jupyter-widgets/base",
            "_model_module_version": "1.2.0",
            "_model_name": "LayoutModel",
            "_view_count": null,
            "_view_module": "@jupyter-widgets/base",
            "_view_module_version": "1.2.0",
            "_view_name": "LayoutView",
            "align_content": null,
            "align_items": null,
            "align_self": null,
            "border": null,
            "bottom": null,
            "display": null,
            "flex": null,
            "flex_flow": null,
            "grid_area": null,
            "grid_auto_columns": null,
            "grid_auto_flow": null,
            "grid_auto_rows": null,
            "grid_column": null,
            "grid_gap": null,
            "grid_row": null,
            "grid_template_areas": null,
            "grid_template_columns": null,
            "grid_template_rows": null,
            "height": null,
            "justify_content": null,
            "justify_items": null,
            "left": null,
            "margin": null,
            "max_height": null,
            "max_width": null,
            "min_height": null,
            "min_width": null,
            "object_fit": null,
            "object_position": null,
            "order": null,
            "overflow": null,
            "overflow_x": null,
            "overflow_y": null,
            "padding": null,
            "right": null,
            "top": null,
            "visibility": null,
            "width": null
          }
        },
        "e59f8ab1c510475fb8c4d50a00a1df87": {
          "model_module": "@jupyter-widgets/controls",
          "model_module_version": "1.5.0",
          "model_name": "ProgressStyleModel",
          "state": {
            "_model_module": "@jupyter-widgets/controls",
            "_model_module_version": "1.5.0",
            "_model_name": "ProgressStyleModel",
            "_view_count": null,
            "_view_module": "@jupyter-widgets/base",
            "_view_module_version": "1.2.0",
            "_view_name": "StyleView",
            "bar_color": null,
            "description_width": ""
          }
        },
        "f5f4c5d20eac43a7bee11061e5d36933": {
          "model_module": "@jupyter-widgets/controls",
          "model_module_version": "1.5.0",
          "model_name": "HBoxModel",
          "state": {
            "_dom_classes": [],
            "_model_module": "@jupyter-widgets/controls",
            "_model_module_version": "1.5.0",
            "_model_name": "HBoxModel",
            "_view_count": null,
            "_view_module": "@jupyter-widgets/controls",
            "_view_module_version": "1.5.0",
            "_view_name": "HBoxView",
            "box_style": "",
            "children": [
              "IPY_MODEL_d39adf153c8445da9829b09973db1553",
              "IPY_MODEL_ca53b671cecf4f09b535f69950e76158",
              "IPY_MODEL_b6438ae4a5e4474bbbfa7dbb7c806a16"
            ],
            "layout": "IPY_MODEL_219f47ce4b8d4f3dac47e21d4d95c63f"
          }
        }
      }
    }
  },
  "nbformat": 4,
  "nbformat_minor": 0
}
